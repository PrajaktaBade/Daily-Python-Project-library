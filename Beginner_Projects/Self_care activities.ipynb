{
 "cells": [
  {
   "cell_type": "code",
   "execution_count": 5,
   "id": "95b2c083-27f6-4cc6-b438-a255ffe53597",
   "metadata": {},
   "outputs": [
    {
     "name": "stdout",
     "output_type": "stream",
     "text": [
      "Hello! Here's your self-care suggestion for today:\n",
      "Spend a few minutes with a pet or a loved one.Watch the sunset or sunrise.\n",
      "Remember,you're doing great!\n"
     ]
    }
   ],
   "source": [
    "import random\n",
    "self_care_activities = [\n",
    "    \"Take a short walk in nature.\",\n",
    "    \"Drink a big glass of water.\",\n",
    "    \"Do some deep breathing for 5 minutes.\",\n",
    "    \"Listen to your favorite music\",\n",
    "    \"Write down three things you're grateful for.\",\n",
    "    \"Read a chapter from a book you love.\",\n",
    "    \"Stretch your body gently.\",\n",
    "    \"Spend a few minutes with a pet or a loved one.\"\n",
    "    \"Watch the sunset or sunrise.\"\n",
    "]\n",
    "\n",
    "suggestion = random.choice(self_care_activities)\n",
    "print(\"Hello! Here's your self-care suggestion for today:\")\n",
    "print(f\"{suggestion}\")\n",
    "print(\"Remember,you're doing great!\")"
   ]
  },
  {
   "cell_type": "code",
   "execution_count": null,
   "id": "0514ae22-c408-4d31-83af-e552c71a7081",
   "metadata": {},
   "outputs": [],
   "source": []
  }
 ],
 "metadata": {
  "kernelspec": {
   "display_name": "Python 3 (ipykernel)",
   "language": "python",
   "name": "python3"
  },
  "language_info": {
   "codemirror_mode": {
    "name": "ipython",
    "version": 3
   },
   "file_extension": ".py",
   "mimetype": "text/x-python",
   "name": "python",
   "nbconvert_exporter": "python",
   "pygments_lexer": "ipython3",
   "version": "3.12.4"
  }
 },
 "nbformat": 4,
 "nbformat_minor": 5
}

{
 "cells": [
  {
   "cell_type": "code",
   "execution_count": 1,
   "id": "d8b3f300-cef6-4572-ac99-15cc93264fff",
   "metadata": {},
   "outputs": [],
   "source": [
    "# Write down a code that reverses any string."
   ]
  },
  {
   "cell_type": "code",
   "execution_count": 3,
   "id": "e7a93f86-cc57-42ad-9fd3-fc1c06739127",
   "metadata": {},
   "outputs": [
    {
     "name": "stdout",
     "output_type": "stream",
     "text": [
      "The reversed string is: !nuf si nohtyP\n"
     ]
    }
   ],
   "source": [
    "# Step 1: Define a string\n",
    "text = \"Python is fun!\"\n",
    "\n",
    "# Step 2: Initialize an empty string for the reversed text\n",
    "reversed_text = \"\"\n",
    "\n",
    "# Step 3: Use a for-loop to iterate over the string in reverse order\n",
    "for char in text:  # Loop through each character in the original string\n",
    "    reversed_text = char + reversed_text  # Prepend the character to the reversed_text\n",
    "\n",
    "# Step 4: Display the result\n",
    "print(f\"The reversed string is: {reversed_text}\")\n"
   ]
  },
  {
   "cell_type": "code",
   "execution_count": 1,
   "id": "e364d6ea-ed3f-4b8f-a879-60790a3ff5cf",
   "metadata": {},
   "outputs": [
    {
     "name": "stdout",
     "output_type": "stream",
     "text": [
      "The reversed string is: !nuf si nohtyP\n"
     ]
    }
   ],
   "source": [
    "# Step 1: Define a string\n",
    "text = \"Python is fun!\"\n",
    "\n",
    "# Step 2: Reverse the string using slicing\n",
    "reversed_text = text[::-1]  # Slicing to reverse the string\n",
    "\n",
    "# Step 3: Display the result\n",
    "print(f\"The reversed string is: {reversed_text}\")"
   ]
  },
  {
   "cell_type": "code",
   "execution_count": null,
   "id": "9ae0a5e1-5fad-4f1c-8a80-eaf9f2d525ca",
   "metadata": {},
   "outputs": [],
   "source": []
  }
 ],
 "metadata": {
  "kernelspec": {
   "display_name": "Python 3 (ipykernel)",
   "language": "python",
   "name": "python3"
  },
  "language_info": {
   "codemirror_mode": {
    "name": "ipython",
    "version": 3
   },
   "file_extension": ".py",
   "mimetype": "text/x-python",
   "name": "python",
   "nbconvert_exporter": "python",
   "pygments_lexer": "ipython3",
   "version": "3.12.4"
  }
 },
 "nbformat": 4,
 "nbformat_minor": 5
}

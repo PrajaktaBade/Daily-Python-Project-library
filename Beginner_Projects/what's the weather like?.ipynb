{
 "cells": [
  {
   "cell_type": "code",
   "execution_count": null,
   "id": "51855ab9-9e16-42d4-87af-aed219d6250e",
   "metadata": {},
   "outputs": [],
   "source": [
    "# Create a program that asks the user about the current weather and, using a dictionary for decision-making, suggests an activity.\n",
    "\n"
   ]
  },
  {
   "cell_type": "code",
   "execution_count": 1,
   "id": "efbaf6cf-dbf3-4ba2-84ff-6d2276d4b6dc",
   "metadata": {},
   "outputs": [
    {
     "name": "stdout",
     "output_type": "stream",
     "text": [
      "What's the weather like today?\n",
      "1.Sunny\n",
      "2.Rainy\n",
      "3.Cloudy\n",
      "4.Snowy\n"
     ]
    },
    {
     "name": "stdin",
     "output_type": "stream",
     "text": [
      "Choose 1,2,3, or 4:  1\n"
     ]
    },
    {
     "name": "stdout",
     "output_type": "stream",
     "text": [
      "\n",
      "It's a beautiful day!How about a walk in the park?\n",
      "\n",
      "Stay safe and enjoy the weather!\n"
     ]
    }
   ],
   "source": [
    "# Step 1: Define a dictionary mapping weather choices to suggestions\n",
    "weather_activities = {\n",
    "    \"1\": \"It's a beautiful day!How about a walk in the park?\",\n",
    "    \"2\": \"Perfect weather for a cozy indoor day with a good book!\",\n",
    "    \"3\": \"Maybe it's a great time for a reflective cup of tea!\",\n",
    "    \"4\": \"Build a snowman or have a snowball fight!\"\n",
    "}\n",
    "\n",
    "# Step 2: ask the user about the weather\n",
    "print(\"What's the weather like today?\")\n",
    "print(\"1.Sunny\")\n",
    "print(\"2.Rainy\")\n",
    "print(\"3.Cloudy\")\n",
    "print(\"4.Snowy\")\n",
    "choice = input(\"Choose 1,2,3, or 4: \")\n",
    "\n",
    "# Step 3: Retrieve and display the suggestion\n",
    "suggestion = weather_activities[choice]\n",
    "print(f\"\\n{suggestion}\")\n",
    "\n",
    "# Step 4: End the program\n",
    "print(\"\\nStay safe and enjoy the weather!\")\n"
   ]
  }
 ],
 "metadata": {
  "kernelspec": {
   "display_name": "Python 3 (ipykernel)",
   "language": "python",
   "name": "python3"
  },
  "language_info": {
   "codemirror_mode": {
    "name": "ipython",
    "version": 3
   },
   "file_extension": ".py",
   "mimetype": "text/x-python",
   "name": "python",
   "nbconvert_exporter": "python",
   "pygments_lexer": "ipython3",
   "version": "3.12.4"
  }
 },
 "nbformat": 4,
 "nbformat_minor": 5
}

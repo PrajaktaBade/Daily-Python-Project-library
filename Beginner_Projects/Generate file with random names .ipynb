{
 "cells": [
  {
   "cell_type": "code",
   "execution_count": 5,
   "id": "61f601a8-2eea-4292-8f75-b5dff7374c1a",
   "metadata": {},
   "outputs": [
    {
     "name": "stdout",
     "output_type": "stream",
     "text": [
      "File 'xJWEkuTjT1.txt' has been created with the content: xJWEkuTjT1\n"
     ]
    }
   ],
   "source": [
    "# To create a Python program which generates a new text file every time you run it.\n",
    "\n",
    "import random\n",
    "import string\n",
    "\n",
    "# Step 1: Generate a random string of 10 characters\n",
    "random_string = ''.join(random.choices(string.ascii_letters + string.digits, k=10))\n",
    "\n",
    "# Step 2: Define the file name using the random string\n",
    "file_name = f\"{random_string}.txt\"\n",
    "\n",
    "# Step 3: Create and open the file in write mode\n",
    "with open(file_name, \"w\") as file:\n",
    "    # Step 4: Write the random string inside the file\n",
    "    file.write(random_string)\n",
    "\n",
    "# Step 5: Print a success message\n",
    "print(f\"File '{file_name}' has been created with the content: {random_string}\")"
   ]
  }
 ],
 "metadata": {
  "kernelspec": {
   "display_name": "Python 3 (ipykernel)",
   "language": "python",
   "name": "python3"
  },
  "language_info": {
   "codemirror_mode": {
    "name": "ipython",
    "version": 3
   },
   "file_extension": ".py",
   "mimetype": "text/x-python",
   "name": "python",
   "nbconvert_exporter": "python",
   "pygments_lexer": "ipython3",
   "version": "3.12.4"
  }
 },
 "nbformat": 4,
 "nbformat_minor": 5
}

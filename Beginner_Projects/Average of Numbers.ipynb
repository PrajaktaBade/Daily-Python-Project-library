{
 "cells": [
  {
   "cell_type": "code",
   "execution_count": 1,
   "id": "00c4da59-d99c-4fac-95a7-ae8061da0518",
   "metadata": {},
   "outputs": [
    {
     "name": "stdin",
     "output_type": "stream",
     "text": [
      "Enter a first number:  5\n",
      "Enter a second number:  6\n",
      "Enter a third number:  7\n"
     ]
    },
    {
     "name": "stdout",
     "output_type": "stream",
     "text": [
      "Average of three given numbers :  6.0\n"
     ]
    }
   ],
   "source": [
    "# Create a program that lets the user submit three numbers and returns the average of those numbers.\n",
    "\n",
    "# step 1: Get user input for three numbers & convert to floats\n",
    "n1 = float(input(\"Enter a first number: \"))\n",
    "n2 = float(input(\"Enter a second number: \"))\n",
    "n3 = float(input(\"Enter a third number: \"))\n",
    "\n",
    "# Step 2: Calculate the average\n",
    "avg_val = (n1+n2+n3)/3\n",
    "\n",
    "# Step 3:Round up the avaerage value to 2 decimal points\n",
    "avg_val = round(avg_val,2)\n",
    "\n",
    "# Step 4: Display the result\n",
    "print(\"Average of three given numbers : \",avg_val)\n",
    "\n",
    "\n"
   ]
  },
  {
   "cell_type": "code",
   "execution_count": null,
   "id": "59c0a213-ec8d-4d25-87f1-768999e66fb9",
   "metadata": {},
   "outputs": [],
   "source": []
  }
 ],
 "metadata": {
  "kernelspec": {
   "display_name": "Python 3 (ipykernel)",
   "language": "python",
   "name": "python3"
  },
  "language_info": {
   "codemirror_mode": {
    "name": "ipython",
    "version": 3
   },
   "file_extension": ".py",
   "mimetype": "text/x-python",
   "name": "python",
   "nbconvert_exporter": "python",
   "pygments_lexer": "ipython3",
   "version": "3.12.4"
  }
 },
 "nbformat": 4,
 "nbformat_minor": 5
}

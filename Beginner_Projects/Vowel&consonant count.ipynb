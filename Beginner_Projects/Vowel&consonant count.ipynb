{
 "cells": [
  {
   "cell_type": "code",
   "execution_count": null,
   "id": "6678e023-014e-40ed-b96f-45b360045086",
   "metadata": {},
   "outputs": [],
   "source": [
    "# Write down a program counts how many vowels and consonants are present, and displays both counts."
   ]
  },
  {
   "cell_type": "code",
   "execution_count": 1,
   "id": "d515df0f-1ab3-4fa6-bd49-55ef28823d8e",
   "metadata": {},
   "outputs": [
    {
     "name": "stdout",
     "output_type": "stream",
     "text": [
      "The number of vowels in the string is : 15\n",
      "The numbetr of consonants in the string is : 28\n"
     ]
    }
   ],
   "source": [
    "# Step 1: Define a string\n",
    "text = \"How many vowels and consonants are in this sentence?\"\n",
    "\n",
    "# Step 2: Define variables to count vowels and consonants\n",
    "vowel_count = 0\n",
    "consonant_count = 0\n",
    "\n",
    "# Step 3: Loop through the string and check if each character is a vowel or consonant\n",
    "for char in text.lower():\n",
    "    if char in \"aeiou\":\n",
    "        vowel_count += 1\n",
    "    elif char in \"bcdfghjklmnpqrstvwxyz\":\n",
    "        consonant_count += 1\n",
    "\n",
    "# Step 4:Display the result\n",
    "print(f\"The number of vowels in the string is : {vowel_count}\")\n",
    "print(f\"The numbetr of consonants in the string is : {consonant_count}\")"
   ]
  }
 ],
 "metadata": {
  "kernelspec": {
   "display_name": "Python 3 (ipykernel)",
   "language": "python",
   "name": "python3"
  },
  "language_info": {
   "codemirror_mode": {
    "name": "ipython",
    "version": 3
   },
   "file_extension": ".py",
   "mimetype": "text/x-python",
   "name": "python",
   "nbconvert_exporter": "python",
   "pygments_lexer": "ipython3",
   "version": "3.12.4"
  }
 },
 "nbformat": 4,
 "nbformat_minor": 5
}

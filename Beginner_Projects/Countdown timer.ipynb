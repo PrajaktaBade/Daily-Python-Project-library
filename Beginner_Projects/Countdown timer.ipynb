{
 "cells": [
  {
   "cell_type": "code",
   "execution_count": null,
   "id": "f85674a3-5441-4add-b0aa-e9449dc30bf6",
   "metadata": {},
   "outputs": [],
   "source": [
    "# Build a countdown timer with Python."
   ]
  },
  {
   "cell_type": "code",
   "execution_count": null,
   "id": "02e1e247-755b-4c87-af39-e7c6f29f364b",
   "metadata": {},
   "outputs": [
    {
     "name": "stdin",
     "output_type": "stream",
     "text": [
      "Enter the time in seconds:  40\n"
     ]
    },
    {
     "name": "stdout",
     "output_type": "stream",
     "text": [
      "00:04\r"
     ]
    }
   ],
   "source": [
    "import time\n",
    "\n",
    "def countdown_timer(seconds):\n",
    "    while seconds:\n",
    "        mins,secs = divmod(seconds, 60)\n",
    "        timer = f'{mins:02d}:{secs:02d}'\n",
    "        print(timer,end=\"\\r\")\n",
    "        time.sleep(1)\n",
    "        seconds -= 1\n",
    "\n",
    "    print(\"Time's up!\")\n",
    "\n",
    "# Ask the user for the countdown time in seconds\n",
    "time_in_seconds = int(input(\"Enter the time in seconds: \"))\n",
    "countdown_timer(time_in_seconds)"
   ]
  }
 ],
 "metadata": {
  "kernelspec": {
   "display_name": "Python 3 (ipykernel)",
   "language": "python",
   "name": "python3"
  },
  "language_info": {
   "codemirror_mode": {
    "name": "ipython",
    "version": 3
   },
   "file_extension": ".py",
   "mimetype": "text/x-python",
   "name": "python",
   "nbconvert_exporter": "python",
   "pygments_lexer": "ipython3",
   "version": "3.12.4"
  }
 },
 "nbformat": 4,
 "nbformat_minor": 5
}

{
 "cells": [
  {
   "cell_type": "code",
   "execution_count": null,
   "id": "213ed81d-ccca-4825-bfd8-74b621382db3",
   "metadata": {},
   "outputs": [],
   "source": [
    "# Create a basic console-based banking system where users can:\n",
    "# 1.Create accounts\n",
    "# 2.Deposit money\n",
    "# 3.View balance\n",
    "# 4.Exit the system."
   ]
  },
  {
   "cell_type": "code",
   "execution_count": null,
   "id": "2b60a4a5-e11c-4d65-ad4a-2d481992c640",
   "metadata": {},
   "outputs": [
    {
     "name": "stdout",
     "output_type": "stream",
     "text": [
      "\n",
      "1. Create Account\n",
      "2. Deposite Money\n",
      "3. view Balance\n",
      "4. Exit\n"
     ]
    },
    {
     "name": "stdin",
     "output_type": "stream",
     "text": [
      "Enter choice:  1\n",
      "Enter your name:  Prajakta\n",
      "Enter initial deposit:  10000\n"
     ]
    },
    {
     "name": "stdout",
     "output_type": "stream",
     "text": [
      "Account created for Prajakta with balance 10000.0\n",
      "\n",
      "1. Create Account\n",
      "2. Deposite Money\n",
      "3. view Balance\n",
      "4. Exit\n"
     ]
    }
   ],
   "source": [
    "class Account:\n",
    "    def __init__(self,name,initial_deposit):\n",
    "        self.name = name\n",
    "        self.balance = initial_deposit\n",
    "\n",
    "    def deposit(self,amount):\n",
    "        self.balance +=amount\n",
    "        print(f\"{amount} deposited.New balnce:{self.balance}\")\n",
    "\n",
    "    def view_balance(self):\n",
    "        print(f\"Account holder: {self.name}, Balance: {self.balance}\")\n",
    "\n",
    "class BankSystem:\n",
    "    def __init__(self):\n",
    "        self.accounts = {}\n",
    "\n",
    "    def create_account(self):\n",
    "        name = input(\"Enter your name: \")\n",
    "        initial_deposit = float(input(\"Enter initial deposit: \"))\n",
    "        self.accounts[name] = Account(name,initial_deposit)\n",
    "        print(f\"Account created for {name} with balance {initial_deposit}\")\n",
    "\n",
    "    def deposit_money(self):\n",
    "        name = input(\"Enter your name: \")\n",
    "        if name in self.accounts:\n",
    "            amount = float(input(\"Enter amount to deposit: \"))\n",
    "            self.accounts[name].deposit(amount)\n",
    "        else:\n",
    "            print(\"Account not found.\")\n",
    "\n",
    "    def view_balance(self):\n",
    "        name = input(\"enter your name: \")\n",
    "        if name in self.acoounts:\n",
    "            self.accounts[name].view_balance()\n",
    "        else:\n",
    "            print(\"Account not found.\")\n",
    "\n",
    "    def run(self):\n",
    "        while True:\n",
    "            print(\"\\n1. Create Account\\n2. Deposite Money\\n3. view Balance\\n4. Exit\")\n",
    "            choice = input(\"Enter choice: \")\n",
    "\n",
    "            if choice == '1':\n",
    "                self.create_account()\n",
    "            elif choice == '2':\n",
    "                self.deposite_money()\n",
    "            elif choice == '3':\n",
    "                self.view_balance()\n",
    "            elif choice == '4':\n",
    "                print(\"Existing...\")\n",
    "                break\n",
    "            else:\n",
    "                print(\"Invalid choice.Please try again.\")\n",
    "\n",
    "if __name__ == \"__main__\":\n",
    "    bank_system = BankSystem()\n",
    "    bank_system.run()"
   ]
  },
  {
   "cell_type": "code",
   "execution_count": null,
   "id": "909c2be2-fe6d-4f5b-b1a1-5b8647b496b1",
   "metadata": {},
   "outputs": [],
   "source": []
  }
 ],
 "metadata": {
  "kernelspec": {
   "display_name": "Python 3 (ipykernel)",
   "language": "python",
   "name": "python3"
  },
  "language_info": {
   "codemirror_mode": {
    "name": "ipython",
    "version": 3
   },
   "file_extension": ".py",
   "mimetype": "text/x-python",
   "name": "python",
   "nbconvert_exporter": "python",
   "pygments_lexer": "ipython3",
   "version": "3.12.4"
  }
 },
 "nbformat": 4,
 "nbformat_minor": 5
}

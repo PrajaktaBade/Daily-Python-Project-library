{
 "cells": [
  {
   "cell_type": "code",
   "execution_count": null,
   "id": "7c19fa39-d10c-4570-8154-db700488fa83",
   "metadata": {},
   "outputs": [],
   "source": [
    "# Write a program to simulates a dice roll by generating a random number between 1 and 6. "
   ]
  },
  {
   "cell_type": "code",
   "execution_count": 5,
   "id": "8d49d2c1-4fd5-4617-bb45-3f811422216b",
   "metadata": {},
   "outputs": [
    {
     "name": "stdout",
     "output_type": "stream",
     "text": [
      "You rolled a 3!\n"
     ]
    }
   ],
   "source": [
    "import random\n",
    "\n",
    "# Step 1: Generate a randon number between 1 and 6\n",
    "dice_roll = random.randint(1,6)\n",
    "\n",
    "# Step 2: Display the result\n",
    "print(f\"You rolled a {dice_roll}!\")"
   ]
  },
  {
   "cell_type": "code",
   "execution_count": null,
   "id": "9e8a8070-8fca-4b8f-b00b-c97507b3f5c1",
   "metadata": {},
   "outputs": [],
   "source": []
  }
 ],
 "metadata": {
  "kernelspec": {
   "display_name": "Python 3 (ipykernel)",
   "language": "python",
   "name": "python3"
  },
  "language_info": {
   "codemirror_mode": {
    "name": "ipython",
    "version": 3
   },
   "file_extension": ".py",
   "mimetype": "text/x-python",
   "name": "python",
   "nbconvert_exporter": "python",
   "pygments_lexer": "ipython3",
   "version": "3.12.4"
  }
 },
 "nbformat": 4,
 "nbformat_minor": 5
}

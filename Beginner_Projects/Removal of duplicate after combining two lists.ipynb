{
 "cells": [
  {
   "cell_type": "code",
   "execution_count": null,
   "id": "2ea663da-9379-41bc-b060-c11469f90f9b",
   "metadata": {},
   "outputs": [],
   "source": [
    "# Task is to:\n",
    "#Place the two lists in a .py file.\n",
    "#Add some code that combines the two lists into one single list.\n",
    "#Removes any duplicates from the combined list.\n",
    "#Sort the combined list in ascending order.\n",
    "#Print out the sorted list."
   ]
  },
  {
   "cell_type": "code",
   "execution_count": null,
   "id": "d3acb553-ff69-4051-8130-af523d4ecbf3",
   "metadata": {},
   "outputs": [],
   "source": [
    "list1 = [5,3,8,6,3]\n",
    "list2 = [7,2,5,9,8]\n",
    "\n",
    "# Combine,remove duplicates, and sort using a loop\n",
    "unique_list = []\n",
    "for item in list1 + list2: # concatenate lists\n",
    "    if item not in unique_list:\n",
    "        unique_list.append(item)\n",
    "\n",
    "unique_list.sort()\n",
    "print(unique_list)"
   ]
  },
  {
   "cell_type": "code",
   "execution_count": null,
   "id": "c0219ed8-1558-4105-8ff7-9e52c6b4a065",
   "metadata": {},
   "outputs": [],
   "source": []
  }
 ],
 "metadata": {
  "kernelspec": {
   "display_name": "Python 3 (ipykernel)",
   "language": "python",
   "name": "python3"
  },
  "language_info": {
   "codemirror_mode": {
    "name": "ipython",
    "version": 3
   },
   "file_extension": ".py",
   "mimetype": "text/x-python",
   "name": "python",
   "nbconvert_exporter": "python",
   "pygments_lexer": "ipython3",
   "version": "3.12.4"
  }
 },
 "nbformat": 4,
 "nbformat_minor": 5
}

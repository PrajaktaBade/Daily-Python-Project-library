{
 "cells": [
  {
   "cell_type": "code",
   "execution_count": null,
   "id": "6eff3375-913c-429e-ad11-b215bb2309ef",
   "metadata": {},
   "outputs": [],
   "source": [
    "# Write a program estimates the price of a property based on the size of the house (in square feet) and its location (city or suburb). \n",
    "# The program will help practice basic Python concepts such as user input, conditional statements, and basic calculations."
   ]
  },
  {
   "cell_type": "code",
   "execution_count": 3,
   "id": "c23cf549-263c-4d41-b8e3-edde68160e11",
   "metadata": {},
   "outputs": [
    {
     "name": "stdout",
     "output_type": "stream",
     "text": [
      "Welcome to the Real Estate Price Estimator!\n"
     ]
    },
    {
     "name": "stdin",
     "output_type": "stream",
     "text": [
      "Enter the size of the property in square feet:  2000\n",
      "Enter the location (city or suburb):  city\n"
     ]
    },
    {
     "name": "stdout",
     "output_type": "stream",
     "text": [
      "The estimated price for a  2000.0 sq ft property in the city is: $500,000.00\n"
     ]
    }
   ],
   "source": [
    "# Step 1: Greet the user\n",
    "print(\"Welcome to the Real Estate Price Estimator!\")\n",
    "\n",
    "# Step 2: Get property details\n",
    "size = float(input(\"Enter the size of the property in square feet: \"))\n",
    "location = input(\"Enter the location (city or suburb): \").lower()\n",
    "\n",
    "# Step 3: Set price per square foot based on location\n",
    "if location == \"city\":\n",
    "    price_per_sqft = 250  # Price in dollars per square foot for city\n",
    "elif location == \"suburb\":\n",
    "    price_per_sqft = 150  # Price in dollars per square foot for suburb\n",
    "else:\n",
    "    print(\"Sorry, we only support 'city' or 'suburb' as location types. \")\n",
    "    price_per_sqft = 0    #Invalid location\n",
    "\n",
    "# Step 4: Calculate and display the estimated price\n",
    "if price_per_sqft > 0:\n",
    "    estimated_price = size * price_per_sqft\n",
    "    print(f\"The estimated price for a  {size} sq ft property in the {location} is: ${estimated_price:,.2f}\")"
   ]
  }
 ],
 "metadata": {
  "kernelspec": {
   "display_name": "Python 3 (ipykernel)",
   "language": "python",
   "name": "python3"
  },
  "language_info": {
   "codemirror_mode": {
    "name": "ipython",
    "version": 3
   },
   "file_extension": ".py",
   "mimetype": "text/x-python",
   "name": "python",
   "nbconvert_exporter": "python",
   "pygments_lexer": "ipython3",
   "version": "3.12.4"
  }
 },
 "nbformat": 4,
 "nbformat_minor": 5
}

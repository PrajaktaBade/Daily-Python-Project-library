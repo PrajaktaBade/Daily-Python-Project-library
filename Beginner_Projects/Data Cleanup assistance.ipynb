{
 "cells": [
  {
   "cell_type": "code",
   "execution_count": 11,
   "id": "665a270d-e890-416b-9628-7bbca3adec36",
   "metadata": {},
   "outputs": [
    {
     "name": "stdout",
     "output_type": "stream",
     "text": [
      "Cleaned and Sorted Names:\n",
      "Alice\n",
      "Bob\n",
      "Charlie\n",
      "Eve\n"
     ]
    }
   ],
   "source": [
    "# Data Cleanup assistance\n",
    "# Write a program that cleans the data by removing extra spaces, converting all names to title case, and removing \n",
    "# any duplicates. Finally, display the cleaned list in alphabetical order.\n",
    "\n",
    "\n",
    "# Step 1: Define a messy list of names\n",
    "messy_names = [\n",
    "    \"  alice\", \"Bob\",\" Charlie\",\"Alice\",\"BOB\",\"eve \",\" Eve\",\"eve\"\n",
    "]\n",
    "\n",
    "# Step 2: Clean the names\n",
    "# - Strip whitespace\n",
    "# -Convert to title case\n",
    "# -Remove duplicates\n",
    "cleaned_names = list(set(name.strip().title() for name in messy_names))\n",
    "\n",
    "# Step 3: Sort the names alphabetically\n",
    "cleaned_names.sort()\n",
    "\n",
    "# Step 4: Display the cleaned list\n",
    "print(\"Cleaned and Sorted Names:\")\n",
    "for name in cleaned_names:\n",
    "    print(name)\n",
    "\n"
   ]
  },
  {
   "cell_type": "code",
   "execution_count": null,
   "id": "b8d231f2-ad31-4fb9-8892-21a67a9c722b",
   "metadata": {},
   "outputs": [],
   "source": []
  }
 ],
 "metadata": {
  "kernelspec": {
   "display_name": "Python 3 (ipykernel)",
   "language": "python",
   "name": "python3"
  },
  "language_info": {
   "codemirror_mode": {
    "name": "ipython",
    "version": 3
   },
   "file_extension": ".py",
   "mimetype": "text/x-python",
   "name": "python",
   "nbconvert_exporter": "python",
   "pygments_lexer": "ipython3",
   "version": "3.12.4"
  }
 },
 "nbformat": 4,
 "nbformat_minor": 5
}

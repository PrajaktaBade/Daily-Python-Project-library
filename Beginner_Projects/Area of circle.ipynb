{
 "cells": [
  {
   "cell_type": "code",
   "execution_count": 1,
   "id": "f6010766-de57-42da-8b7c-7d7b1fb9a857",
   "metadata": {},
   "outputs": [
    {
     "name": "stdin",
     "output_type": "stream",
     "text": [
      "Enter a radius of circle:  5\n"
     ]
    },
    {
     "name": "stdout",
     "output_type": "stream",
     "text": [
      "Area of circle is 78.5\n"
     ]
    }
   ],
   "source": [
    "# To create a Python program that calculates the area of a circle.\n",
    "\n",
    "# Step 1: Ask user input for radius of circle\n",
    "radius = float(input(\"Enter a radius of circle: \"))\n",
    "\n",
    "area_of_circle = 3.14 * radius * radius\n",
    "\n",
    "print(f\"Area of circle is {area_of_circle}\")"
   ]
  },
  {
   "cell_type": "code",
   "execution_count": null,
   "id": "4fac4c62-52e0-48db-a880-b35a3b802f12",
   "metadata": {},
   "outputs": [],
   "source": [
    "import math\n",
    "\n",
    "# Step 1: Get the radius of the circle from the user\n",
    "radius = input(\"Enter the radius of the circle: \")\n",
    "\n",
    "# Step 2: Convert the input to a float\n",
    "radius = float(radius)\n",
    "\n",
    "# Step 3: Calculate the area of the circle using the formula: Area = π * r^2\n",
    "area = math.pi * radius ** 2\n",
    "\n",
    "# Step 4: Round the result to two decimal places\n",
    "rounded_area = round(area, 2)\n",
    "\n",
    "# Step 5: Display the result\n",
    "print(f\"The area of a circle with radius {radius} is {rounded_area}.\")"
   ]
  }
 ],
 "metadata": {
  "kernelspec": {
   "display_name": "Python 3 (ipykernel)",
   "language": "python",
   "name": "python3"
  },
  "language_info": {
   "codemirror_mode": {
    "name": "ipython",
    "version": 3
   },
   "file_extension": ".py",
   "mimetype": "text/x-python",
   "name": "python",
   "nbconvert_exporter": "python",
   "pygments_lexer": "ipython3",
   "version": "3.12.4"
  }
 },
 "nbformat": 4,
 "nbformat_minor": 5
}

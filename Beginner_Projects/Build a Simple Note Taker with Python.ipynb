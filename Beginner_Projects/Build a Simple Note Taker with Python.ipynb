{
 "cells": [
  {
   "cell_type": "code",
   "execution_count": null,
   "id": "3aa3363d-0489-4059-8709-58b7da22f098",
   "metadata": {},
   "outputs": [],
   "source": [
    "# Create a terminal-based note manager that allows users to add or view notes stored in a text file. \n",
    "# Try to use Python 3.10 or newer and use match-case statements."
   ]
  },
  {
   "cell_type": "code",
   "execution_count": null,
   "id": "29be76b3-ec64-4057-a39a-b5f73c840f28",
   "metadata": {},
   "outputs": [
    {
     "name": "stdout",
     "output_type": "stream",
     "text": [
      "\n",
      "Menu:\n",
      "1.Add a note\n",
      "2.View all notes\n",
      "3.Exit\n"
     ]
    },
    {
     "name": "stdin",
     "output_type": "stream",
     "text": [
      "Choose an option (1,2, or 3):  2\n"
     ]
    },
    {
     "name": "stdout",
     "output_type": "stream",
     "text": [
      "No notes file found.\n",
      "\n",
      "Menu:\n",
      "1.Add a note\n",
      "2.View all notes\n",
      "3.Exit\n"
     ]
    },
    {
     "name": "stdin",
     "output_type": "stream",
     "text": [
      "Choose an option (1,2, or 3):  1\n",
      "Enter your note:  Prajakta\n"
     ]
    },
    {
     "name": "stdout",
     "output_type": "stream",
     "text": [
      "Note added.\n",
      "\n",
      "Menu:\n",
      "1.Add a note\n",
      "2.View all notes\n",
      "3.Exit\n"
     ]
    },
    {
     "name": "stdin",
     "output_type": "stream",
     "text": [
      "Choose an option (1,2, or 3):  2\n"
     ]
    },
    {
     "name": "stdout",
     "output_type": "stream",
     "text": [
      "\n",
      "Notes List:\n",
      "-Prajakta\n",
      "\n",
      "Menu:\n",
      "1.Add a note\n",
      "2.View all notes\n",
      "3.Exit\n"
     ]
    }
   ],
   "source": [
    "def display_menu():\n",
    "    \"\"\"Displays the main menu options.\"\"\"\n",
    "    print(\"\\nMenu:\")\n",
    "    print(\"1.Add a note\")\n",
    "    print(\"2.View all notes\")\n",
    "    print(\"3.Exit\")\n",
    "\n",
    "def add_note(fiulename):\n",
    "    \"\"\"Adds a new note to the file.\"\"\"\n",
    "    note = input(\"Enter your note: \")\n",
    "    with open(filename, 'a') as file:\n",
    "        file.write(note + '\\n')\n",
    "    print(\"Note added.\")\n",
    "\n",
    "def view_notes(filename):\n",
    "    \"\"\"Displays all notes from the file.\"\"\"\n",
    "    try:\n",
    "        with open(filename,'r') as file:\n",
    "            notes = file.readlines()\n",
    "            if notes:\n",
    "                print(\"\\nNotes List:\")\n",
    "                for note in notes:\n",
    "                    print(f\"-{note.strip()}\")\n",
    "            else:\n",
    "                print(\"No notes found.\")\n",
    "    except FileNotFoundError:\n",
    "        print(\"No notes file found.\")\n",
    "\n",
    "# Define the filename here\n",
    "filename = 'notes.txt'\n",
    "\n",
    "while True:\n",
    "    display_menu()\n",
    "    choice = input(\"Choose an option (1,2, or 3): \")\n",
    "\n",
    "    match choice:\n",
    "       case '1':\n",
    "           add_note(filename)\n",
    "       case '2':\n",
    "           view_notes(filename)\n",
    "       case '3':\n",
    "            print(\"Existing the program.\")\n",
    "            break\n",
    "       case _:\n",
    "            print(\"Invalid choice, please enter 1,2, or 3.\")"
   ]
  },
  {
   "cell_type": "code",
   "execution_count": null,
   "id": "20e6a2e3-c3b2-4124-b47e-83b5fa5aef08",
   "metadata": {},
   "outputs": [],
   "source": []
  }
 ],
 "metadata": {
  "kernelspec": {
   "display_name": "Python 3 (ipykernel)",
   "language": "python",
   "name": "python3"
  },
  "language_info": {
   "codemirror_mode": {
    "name": "ipython",
    "version": 3
   },
   "file_extension": ".py",
   "mimetype": "text/x-python",
   "name": "python",
   "nbconvert_exporter": "python",
   "pygments_lexer": "ipython3",
   "version": "3.12.4"
  }
 },
 "nbformat": 4,
 "nbformat_minor": 5
}

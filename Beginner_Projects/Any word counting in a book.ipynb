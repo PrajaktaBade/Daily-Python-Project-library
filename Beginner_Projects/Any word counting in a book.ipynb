{
 "cells": [
  {
   "cell_type": "code",
   "execution_count": null,
   "id": "c1371383-d21e-48bc-aaf6-b4a8c9a9e58c",
   "metadata": {},
   "outputs": [],
   "source": [
    "# Create a Python program to count the occurrences of any given word in the book stored"
   ]
  },
  {
   "cell_type": "code",
   "execution_count": 3,
   "id": "1fa1fb7e-73ef-4d3a-b096-d109fe215458",
   "metadata": {},
   "outputs": [
    {
     "name": "stdin",
     "output_type": "stream",
     "text": [
      "Enter the word to count: to\n"
     ]
    },
    {
     "name": "stdout",
     "output_type": "stream",
     "text": [
      "The word 'to' appears 2352 times in the file 'book.txt'.\n"
     ]
    }
   ],
   "source": [
    "filename = \"book.txt\"\n",
    "word = input(\"Enter the word to count:\")\n",
    "\n",
    "with open(filename,'r') as file:\n",
    "    content = file.read()\n",
    "    words = content.split()\n",
    "    count = words.count(word)\n",
    "\n",
    "print(f\"The word '{word}' appears {count} times in the file '{filename}'.\")"
   ]
  },
  {
   "cell_type": "code",
   "execution_count": null,
   "id": "76197405-c663-402b-9389-b1b2fd9c3f44",
   "metadata": {},
   "outputs": [],
   "source": []
  }
 ],
 "metadata": {
  "kernelspec": {
   "display_name": "Python 3 (ipykernel)",
   "language": "python",
   "name": "python3"
  },
  "language_info": {
   "codemirror_mode": {
    "name": "ipython",
    "version": 3
   },
   "file_extension": ".py",
   "mimetype": "text/x-python",
   "name": "python",
   "nbconvert_exporter": "python",
   "pygments_lexer": "ipython3",
   "version": "3.12.4"
  }
 },
 "nbformat": 4,
 "nbformat_minor": 5
}

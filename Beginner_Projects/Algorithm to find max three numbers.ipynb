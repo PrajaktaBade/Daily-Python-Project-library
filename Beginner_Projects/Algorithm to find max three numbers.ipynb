{
 "cells": [
  {
   "cell_type": "code",
   "execution_count": null,
   "id": "b37a3c80-231a-41c9-a191-4cbb4a66b797",
   "metadata": {},
   "outputs": [],
   "source": [
    "# This program defines three numbers and determines which one is the largest. It then displays the largest number.\n",
    "\n",
    "# It is the same as 10.Maximum number notebook solution"
   ]
  }
 ],
 "metadata": {
  "kernelspec": {
   "display_name": "Python 3 (ipykernel)",
   "language": "python",
   "name": "python3"
  },
  "language_info": {
   "codemirror_mode": {
    "name": "ipython",
    "version": 3
   },
   "file_extension": ".py",
   "mimetype": "text/x-python",
   "name": "python",
   "nbconvert_exporter": "python",
   "pygments_lexer": "ipython3",
   "version": "3.12.4"
  }
 },
 "nbformat": 4,
 "nbformat_minor": 5
}

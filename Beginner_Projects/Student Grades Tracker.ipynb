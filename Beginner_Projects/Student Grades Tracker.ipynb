{
 "cells": [
  {
   "cell_type": "code",
   "execution_count": null,
   "id": "4bad4c0e-c39e-4203-b456-8a5ddfd0498b",
   "metadata": {},
   "outputs": [],
   "source": [
    "# Write a program to that runs on the terminal and lets the user store student names and their grades."
   ]
  },
  {
   "cell_type": "code",
   "execution_count": null,
   "id": "d5518969-ade9-4168-ac71-7a2d5196abcf",
   "metadata": {},
   "outputs": [
    {
     "name": "stdout",
     "output_type": "stream",
     "text": [
      "\n",
      "Menu:\n",
      "1. Add a student and their grade\n",
      "2. View all students and their grades\n",
      "3. Exit\n"
     ]
    },
    {
     "name": "stdin",
     "output_type": "stream",
     "text": [
      "Choose an option (1-3):  1\n",
      "Enter the student's name:  Prajakta\n",
      "Enter Prajakta's grade:  90\n"
     ]
    },
    {
     "name": "stdout",
     "output_type": "stream",
     "text": [
      "Prajaktas grade has been added.\n",
      "\n",
      "Menu:\n",
      "1. Add a student and their grade\n",
      "2. View all students and their grades\n",
      "3. Exit\n"
     ]
    },
    {
     "name": "stdin",
     "output_type": "stream",
     "text": [
      "Choose an option (1-3):  2\n"
     ]
    },
    {
     "name": "stdout",
     "output_type": "stream",
     "text": [
      "\n",
      "Student Grades\n",
      "Prajakta:90\n",
      "\n",
      "Menu:\n",
      "1. Add a student and their grade\n",
      "2. View all students and their grades\n",
      "3. Exit\n"
     ]
    }
   ],
   "source": [
    "# Initialize an empty dictionary to store student grades \n",
    "\n",
    "grades = {}\n",
    "\n",
    "def add_student():\n",
    "    name = input(\"Enter the student's name: \")\n",
    "    grade = input(f\"Enter {name}'s grade: \")\n",
    "\n",
    "    # Store the student's grade in the dictionary\n",
    "    grades[name] = grade\n",
    "    print(f\"{name}s grade has been added.\")\n",
    "\n",
    "def view_students():\n",
    "    if not grades:\n",
    "         print(\"No students in the system yet!\")\n",
    "    else:\n",
    "        print(\"\\nStudent Grades\")\n",
    "        for student, grade in grades.items():\n",
    "            print(f\"{student}:{grade}\")\n",
    "\n",
    "# Main loop\n",
    "while True:\n",
    "    print(\"\\nMenu:\")\n",
    "    print(\"1. Add a student and their grade\")\n",
    "    print(\"2. View all students and their grades\")\n",
    "    print(\"3. Exit\")\n",
    "\n",
    "    choice = input(\"Choose an option (1-3): \")\n",
    "\n",
    "    if choice == '1':\n",
    "        add_student()\n",
    "    elif choice == '2':\n",
    "        view_students()\n",
    "    elif choice == '3':\n",
    "        print(\"Existing the program.\")\n",
    "        break\n",
    "    else:\n",
    "        print(\"Invalid option.Please choose again.\")"
   ]
  },
  {
   "cell_type": "code",
   "execution_count": null,
   "id": "c77ac01d-d04a-43f1-915d-a3081f31309e",
   "metadata": {},
   "outputs": [],
   "source": []
  }
 ],
 "metadata": {
  "kernelspec": {
   "display_name": "Python 3 (ipykernel)",
   "language": "python",
   "name": "python3"
  },
  "language_info": {
   "codemirror_mode": {
    "name": "ipython",
    "version": 3
   },
   "file_extension": ".py",
   "mimetype": "text/x-python",
   "name": "python",
   "nbconvert_exporter": "python",
   "pygments_lexer": "ipython3",
   "version": "3.12.4"
  }
 },
 "nbformat": 4,
 "nbformat_minor": 5
}

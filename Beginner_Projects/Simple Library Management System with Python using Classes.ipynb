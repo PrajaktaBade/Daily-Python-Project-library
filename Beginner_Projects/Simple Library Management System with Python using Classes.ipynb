{
 "cells": [
  {
   "cell_type": "code",
   "execution_count": null,
   "id": "05d23cab-437a-4dba-9438-5b9b5ad00fa6",
   "metadata": {},
   "outputs": [],
   "source": [
    "# Create a console-based library management system where users can:\n",
    "# 1.Add books\n",
    "# 2.Borrow books\n",
    "# 3.Return books\n",
    "# 4.View available books\n",
    "# 5.Exit the system\n"
   ]
  },
  {
   "cell_type": "code",
   "execution_count": null,
   "id": "b16fe02a-ae5c-4d34-8b38-a45507690e26",
   "metadata": {},
   "outputs": [
    {
     "name": "stdout",
     "output_type": "stream",
     "text": [
      "\n",
      "1. Add Book\n",
      "2. Borrow Book\n",
      "3. Return Book\n",
      "4. View Available Books\n",
      "5. Exit\n"
     ]
    }
   ],
   "source": [
    "class Book:\n",
    "    def __init__(self, title):\n",
    "        self.title = title\n",
    "        self.is_available = True\n",
    "\n",
    "    def mark_as_borrowed(self):\n",
    "        if self.is_available:\n",
    "            self.is_available = False\n",
    "            print(f\"You have borrowed '{self.title}'\")\n",
    "        else:\n",
    "            print(f\"Sorry, '{self.title}' is currently not available\")\n",
    "\n",
    "    def mark_as_returned(self):\n",
    "        self.is_available = True\n",
    "        print(f\"'{self.title}' has been returned.\")\n",
    "\n",
    "class Library:\n",
    "    def __init__(self):\n",
    "        self.books = []\n",
    "\n",
    "    def add_book(self):\n",
    "        title = input(\"Enter the title of the book: \")\n",
    "        new_book = Book(title)\n",
    "        self.books.append(new_book)\n",
    "        print(f\"'{title}' has been added to the library.\")\n",
    "\n",
    "    def borrow_book(self):\n",
    "        title = input(\"Enter the title of the book to borrow: \")\n",
    "        for book in self.books:\n",
    "            if book.title == title:\n",
    "                book.mark_as_borrowed()\n",
    "                return\n",
    "        print(f\"'{title}' is not in the library.\")\n",
    "\n",
    "    def return_book(self):\n",
    "        title = input(\"Enter the title of the book to return: \")\n",
    "        for book in self.books:\n",
    "            if book.title == title:\n",
    "                book.mark_as_returned()\n",
    "                return\n",
    "        print(f\"'{title}' is not in the library.\")\n",
    "\n",
    "    def view_books(self):\n",
    "        print(\"\\nAvailable books:\")\n",
    "        for book in self.books:\n",
    "            if book.is_available:\n",
    "                print(f\"- {book.title}\")\n",
    "        if all(not book.is_available for book in self.books):\n",
    "            print(\"No books available right now.\")\n",
    "\n",
    "    def run(self):\n",
    "        while True:\n",
    "            print(\"\\n1. Add Book\\n2. Borrow Book\\n3. Return Book\\n4. View Available Books\\n5. Exit\")\n",
    "            choice = input(\"Enter choice: \")\n",
    "\n",
    "            if choice == '1':\n",
    "                self.add_book()\n",
    "            elif choice == '2':\n",
    "                self.borrow_book()\n",
    "            elif choice == '3':\n",
    "                self.return_book()\n",
    "            elif choice == '4':\n",
    "                self.view_books()\n",
    "            elif choice == '5':\n",
    "                print(\"Exiting...\")\n",
    "                break\n",
    "            else:\n",
    "                print(\"Invalid choice. Please try again.\")\n",
    "\n",
    "if __name__ == \"__main__\":\n",
    "    library = Library()\n",
    "    library.run()"
   ]
  },
  {
   "cell_type": "code",
   "execution_count": null,
   "id": "3876c691-a6da-45bb-b18a-6f562e7b6ea9",
   "metadata": {},
   "outputs": [],
   "source": []
  }
 ],
 "metadata": {
  "kernelspec": {
   "display_name": "Python 3 (ipykernel)",
   "language": "python",
   "name": "python3"
  },
  "language_info": {
   "codemirror_mode": {
    "name": "ipython",
    "version": 3
   },
   "file_extension": ".py",
   "mimetype": "text/x-python",
   "name": "python",
   "nbconvert_exporter": "python",
   "pygments_lexer": "ipython3",
   "version": "3.12.4"
  }
 },
 "nbformat": 4,
 "nbformat_minor": 5
}

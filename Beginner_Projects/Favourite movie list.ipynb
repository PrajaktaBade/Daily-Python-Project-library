{
 "cells": [
  {
   "cell_type": "code",
   "execution_count": null,
   "id": "489015b0-6aa4-4764-a9a4-903ea8a902ef",
   "metadata": {},
   "outputs": [],
   "source": [
    "# Create a program that starts with a predefined list of your favorite movies."
   ]
  },
  {
   "cell_type": "code",
   "execution_count": 5,
   "id": "4c496822-fc03-4ec1-a099-4f2368cf34fd",
   "metadata": {},
   "outputs": [
    {
     "name": "stdout",
     "output_type": "stream",
     "text": [
      "Total number of movies: 4\n",
      "Your favorite movies in alphabetical order: \n",
      "- Inception\n",
      "- Interstellar\n",
      "- The Godfather\n",
      "- The dark knight\n"
     ]
    }
   ],
   "source": [
    "# Initial list of favorite movies\n",
    "favourite_movies = [\"Inception\",\"The Matrix\",\"Interstellar\",\"The dark knight\"]\n",
    "\n",
    "# Step 1: Add a new movie\n",
    "favourite_movies.append(\"The Godfather\")\n",
    "\n",
    "# Step 2: Remove a specific movie\n",
    "favourite_movies.remove(\"The Matrix\")\n",
    "\n",
    "# Step 3: Count the total number of movies\n",
    "total_movies = len(favourite_movies)\n",
    "print(f\"Total number of movies: {total_movies}\")\n",
    "\n",
    "# Step 4: Sort the list alphabetically\n",
    "favourite_movies.sort()\n",
    "\n",
    "# Step 5: Display the sorted list\n",
    "print(\"Your favorite movies in alphabetical order: \")\n",
    "for movie in favourite_movies:\n",
    "    print(f\"- {movie}\")"
   ]
  }
 ],
 "metadata": {
  "kernelspec": {
   "display_name": "Python 3 (ipykernel)",
   "language": "python",
   "name": "python3"
  },
  "language_info": {
   "codemirror_mode": {
    "name": "ipython",
    "version": 3
   },
   "file_extension": ".py",
   "mimetype": "text/x-python",
   "name": "python",
   "nbconvert_exporter": "python",
   "pygments_lexer": "ipython3",
   "version": "3.12.4"
  }
 },
 "nbformat": 4,
 "nbformat_minor": 5
}

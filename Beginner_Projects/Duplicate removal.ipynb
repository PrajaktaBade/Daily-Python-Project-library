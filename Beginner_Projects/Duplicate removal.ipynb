{
 "cells": [
  {
   "cell_type": "code",
   "execution_count": null,
   "id": "ad36832f-3c45-4ccf-a146-2a3ed193d79d",
   "metadata": {},
   "outputs": [],
   "source": [
    "# Write a program that removes duplicate items from a list while keeping the original order. \n",
    "#The program should return a new list with only unique elements."
   ]
  },
  {
   "cell_type": "code",
   "execution_count": null,
   "id": "c668a593-7b6a-4d9d-a0e6-175b86acb9bf",
   "metadata": {},
   "outputs": [],
   "source": [
    "# Step 1 : Define a list  with duplicate values\n",
    "numbers = [3,1,2,3,4,1,5,2]\n",
    "\n",
    "# Step 2 : Create an empty list to store unique values\n",
    "unique_numbers = []\n",
    "\n",
    "# Step 3 : Iterate through the original list and add unique values to the new list\n",
    "for num in numbers:\n",
    "    if num not in unique_numbers:\n",
    "        unique_numbers.append(num)\n",
    "\n",
    "# Step 4 : Display the result\n",
    "print(\"List without duplicates:\",unique_numbers)"
   ]
  }
 ],
 "metadata": {
  "kernelspec": {
   "display_name": "Python 3 (ipykernel)",
   "language": "python",
   "name": "python3"
  },
  "language_info": {
   "codemirror_mode": {
    "name": "ipython",
    "version": 3
   },
   "file_extension": ".py",
   "mimetype": "text/x-python",
   "name": "python",
   "nbconvert_exporter": "python",
   "pygments_lexer": "ipython3",
   "version": "3.12.4"
  }
 },
 "nbformat": 4,
 "nbformat_minor": 5
}

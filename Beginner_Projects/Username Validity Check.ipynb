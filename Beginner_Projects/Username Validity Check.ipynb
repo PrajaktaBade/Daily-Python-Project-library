{
 "cells": [
  {
   "cell_type": "code",
   "execution_count": 3,
   "id": "10fe18fc-cff0-4981-b680-2c603590b29a",
   "metadata": {},
   "outputs": [
    {
     "name": "stdin",
     "output_type": "stream",
     "text": [
      "Enter a username:  Praj@91\n"
     ]
    },
    {
     "name": "stdout",
     "output_type": "stream",
     "text": [
      "Invalid username: Only letters and numbers are allowed.\n"
     ]
    }
   ],
   "source": [
    "# This program creates a function that checks whether a username is valid based on some simple rules. \n",
    "# The function will take a username as input and return whether it is valid or not. The rules for a valid username are:\n",
    "\n",
    "# The username must be between 5 and 15 characters.\n",
    "# It must contain only alphanumeric characters (letters and numbers).\n",
    "# It must start with a letter.\n",
    "\n",
    "def check_username_validity(username):\n",
    "    if not(5 <= len(username) <= 15):\n",
    "        return \"Invalid username: Length must be between 5 and 15 characters.\"\n",
    "    if not username.isalnum():\n",
    "        return \"Invalid username: Only letters and numbers are allowed.\"\n",
    "    if not username[0].isalpha():\n",
    "        return \"Invalid username: It must start with a letter.\"\n",
    "\n",
    "    return \"Valid username.\"\n",
    "\n",
    "username = input(\"Enter a username: \")\n",
    "\n",
    "print(check_username_validity(username))\n"
   ]
  },
  {
   "cell_type": "code",
   "execution_count": null,
   "id": "fc4940a0-1a7c-4fb0-879e-682af8d82475",
   "metadata": {},
   "outputs": [],
   "source": []
  }
 ],
 "metadata": {
  "kernelspec": {
   "display_name": "Python 3 (ipykernel)",
   "language": "python",
   "name": "python3"
  },
  "language_info": {
   "codemirror_mode": {
    "name": "ipython",
    "version": 3
   },
   "file_extension": ".py",
   "mimetype": "text/x-python",
   "name": "python",
   "nbconvert_exporter": "python",
   "pygments_lexer": "ipython3",
   "version": "3.12.4"
  }
 },
 "nbformat": 4,
 "nbformat_minor": 5
}

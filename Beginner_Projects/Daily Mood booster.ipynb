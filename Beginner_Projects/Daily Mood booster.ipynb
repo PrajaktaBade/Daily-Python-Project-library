{
 "cells": [
  {
   "cell_type": "code",
   "execution_count": null,
   "id": "444bcc50-ad7e-4f2f-840c-4f2b4ba01357",
   "metadata": {},
   "outputs": [],
   "source": [
    "# Create a program that prompts the user to enter their mood (Happy, Stressed, or Tired) and display a message depending on \n",
    "# the moood submitted by the user."
   ]
  },
  {
   "cell_type": "code",
   "execution_count": 1,
   "id": "bd80b9bb-9ed8-4d0c-8270-866c804599f3",
   "metadata": {},
   "outputs": [
    {
     "name": "stdin",
     "output_type": "stream",
     "text": [
      "Hello! What's your name? Prajakta\n"
     ]
    },
    {
     "name": "stdout",
     "output_type": "stream",
     "text": [
      "\n",
      "Hi, Prajakta! How are you feeling today?\n",
      "1.Happy\n",
      "2.Stressed\n",
      "3.Tired\n"
     ]
    },
    {
     "name": "stdin",
     "output_type": "stream",
     "text": [
      "Choose 1,2, or 3:  1\n"
     ]
    },
    {
     "name": "stdout",
     "output_type": "stream",
     "text": [
      "\n",
      "That's great, Prajakta! Keep spreading your joy!\n"
     ]
    }
   ],
   "source": [
    "# Step 1 : Ask for the user's name\n",
    "name = input(\"Hello! What's your name?\")\n",
    "\n",
    "# Step 2: Ask about the user's mood\n",
    "print(\"\\nHi, \" + name + \"! How are you feeling today?\")\n",
    "print(\"1.Happy\")\n",
    "print(\"2.Stressed\")\n",
    "print(\"3.Tired\")\n",
    "choice = input(\"Choose 1,2, or 3: \")\n",
    "\n",
    "# Step 3: Show a motivational message\n",
    "if choice == \"1\":\n",
    "    print(f\"\\nThat's great, {name}! Keep spreading your joy!\")\n",
    "elif choice == \"2\":\n",
    "    print(f\"\\nTake a deep breath, {name}. You're doing amazing!\")\n",
    "elif choice == \"3\":\n",
    "    print(f\"\\nRest up, {name}. Tomorrow is a fresh start!\")\n",
    "else:\n",
    "    print(\"\\nOops! Invalid choice, but remember, you're awesome!\")"
   ]
  }
 ],
 "metadata": {
  "kernelspec": {
   "display_name": "Python 3 (ipykernel)",
   "language": "python",
   "name": "python3"
  },
  "language_info": {
   "codemirror_mode": {
    "name": "ipython",
    "version": 3
   },
   "file_extension": ".py",
   "mimetype": "text/x-python",
   "name": "python",
   "nbconvert_exporter": "python",
   "pygments_lexer": "ipython3",
   "version": "3.12.4"
  }
 },
 "nbformat": 4,
 "nbformat_minor": 5
}

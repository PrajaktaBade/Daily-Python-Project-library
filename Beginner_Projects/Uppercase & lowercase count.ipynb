{
 "cells": [
  {
   "cell_type": "code",
   "execution_count": null,
   "id": "5b4dbb13-8819-4bf4-8a1a-4a72725fe570",
   "metadata": {},
   "outputs": [],
   "source": [
    "# Write down program to counts how many uppercase and lowercase letters are present, and displays both counts of a string."
   ]
  },
  {
   "cell_type": "code",
   "execution_count": 3,
   "id": "c5f66934-2535-483d-a9e2-b2aa33997279",
   "metadata": {},
   "outputs": [
    {
     "name": "stdout",
     "output_type": "stream",
     "text": [
      "The number of uppercase letters is: 8\n",
      "The number of lowercase letters is: 23\n"
     ]
    }
   ],
   "source": [
    "# Step 1: define a string\n",
    "text = input(\"Enter a sentence: \")\n",
    "\n",
    "# step 2: Define variables to count uppercase and lowercase letters\n",
    "uppercase_count = 0\n",
    "lowercase_count = 0\n",
    "\n",
    "# Step 3: Loop through the string and check if each character is uppercase or lowercase\n",
    "for char in text:\n",
    "    if char.isupper():\n",
    "        uppercase_count += 1\n",
    "    elif char.islower():\n",
    "        lowercase_count += 1\n",
    "#Step 4: display the result\n",
    "print(f\"The number of uppercase letters is: {uppercase_count}\")\n",
    "print(f\"The number of lowercase letters is: {lowercase_count}\")"
   ]
  }
 ],
 "metadata": {
  "kernelspec": {
   "display_name": "Python 3 (ipykernel)",
   "language": "python",
   "name": "python3"
  },
  "language_info": {
   "codemirror_mode": {
    "name": "ipython",
    "version": 3
   },
   "file_extension": ".py",
   "mimetype": "text/x-python",
   "name": "python",
   "nbconvert_exporter": "python",
   "pygments_lexer": "ipython3",
   "version": "3.12.4"
  }
 },
 "nbformat": 4,
 "nbformat_minor": 5
}

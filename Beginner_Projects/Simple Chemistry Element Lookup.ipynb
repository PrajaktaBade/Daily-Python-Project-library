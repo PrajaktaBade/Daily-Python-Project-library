{
 "cells": [
  {
   "cell_type": "code",
   "execution_count": null,
   "id": "aca3e425-d3b2-4188-afff-31626272460f",
   "metadata": {},
   "outputs": [],
   "source": [
    "# Write a program that allows you to search for a chemical element by its symbol and get its full name and atomic number.\n",
    "# The program uses a predefined dictionary of elements."
   ]
  },
  {
   "cell_type": "code",
   "execution_count": 5,
   "id": "bb9f6625-1f14-46c9-9d8f-f0bda83c85e8",
   "metadata": {},
   "outputs": [
    {
     "name": "stdin",
     "output_type": "stream",
     "text": [
      "Enter the chemical symbol (e.g.,H,He,C): h\n"
     ]
    },
    {
     "name": "stdout",
     "output_type": "stream",
     "text": [
      "Hydrogen: atomic Number 1\n"
     ]
    }
   ],
   "source": [
    "elements = {\n",
    "    \"H\": {\"name\": \"Hydrogen\", \"atomic_number\": 1},\n",
    "    \"He\": {\"name\": \"Helium\", \"atomic_number\": 2},\n",
    "    \"Li\": {\"name\": \"Lithium\", \"atomic_number\": 3},\n",
    "    \"Be\": {\"name\": \"Beryllium\", \"atomic_number\": 4},\n",
    "    \"B\": {\"name\": \"Boron\", \"atomic_number\": 5},\n",
    "    \"C\": {\"name\": \"Carbon\", \"atomic_number\": 6},\n",
    "    \"N\": {\"name\": \"Nitrogen\", \"atomic_number\": 7},\n",
    "    \"O\": {\"name\": \"Oxygen\", \"atomic_number\": 8},\n",
    "    \"F\": {\"name\": \"Fluorine\", \"atomic_number\": 9},\n",
    "    \"Ne\": {\"name\": \"Neon\", \"atomic_number\": 10},\n",
    "    \"Na\": {\"name\": \"Sodium\", \"atomic_number\": 11},\n",
    "    \"Mg\": {\"name\": \"Magnesium\", \"atomic_number\": 12},\n",
    "    \"Al\": {\"name\": \"Aluminum\", \"atomic_number\": 13},\n",
    "    \"Si\": {\"name\": \"Silicon\", \"atomic_number\": 14},\n",
    "    \"P\": {\"name\": \"Phosphorus\", \"atomic_number\": 15},\n",
    "    \"S\": {\"name\": \"Sulfur\", \"atomic_number\": 16},\n",
    "    \"Cl\": {\"name\": \"Chlorine\", \"atomic_number\": 17},\n",
    "    \"Ar\": {\"name\": \"Argon\", \"atomic_number\": 18},\n",
    "    \"K\": {\"name\": \"Potassium\", \"atomic_number\": 19},\n",
    "    \"Ca\": {\"name\": \"Calcium\", \"atomic_number\": 20},\n",
    "    \"Sc\": {\"name\": \"Scandium\", \"atomic_number\": 21},\n",
    "    \"Ti\": {\"name\": \"Titanium\", \"atomic_number\": 22},\n",
    "    \"V\": {\"name\": \"Vanadium\", \"atomic_number\": 23},\n",
    "    \"Cr\": {\"name\": \"Chromium\", \"atomic_number\": 24},\n",
    "    \"Mn\": {\"name\": \"Manganese\", \"atomic_number\": 25},\n",
    "    \"Fe\": {\"name\": \"Iron\", \"atomic_number\": 26},\n",
    "    \"Co\": {\"name\": \"Cobalt\", \"atomic_number\": 27},\n",
    "    \"Ni\": {\"name\": \"Nickel\", \"atomic_number\": 28},\n",
    "    \"Cu\": {\"name\": \"Copper\", \"atomic_number\": 29},\n",
    "    \"Zn\": {\"name\": \"Zinc\", \"atomic_number\": 30}\n",
    "}\n",
    "\n",
    "# Step 2 : Ask for the element symbol\n",
    "symbol = input(\"Enter the chemical symbol (e.g.,H,He,C):\").capitalize()\n",
    "\n",
    "# Step 3 : Search and display results\n",
    "if symbol in elements:\n",
    "    name = elements[symbol][\"name\"]\n",
    "    atomic_number = elements[symbol][\"atomic_number\"]\n",
    "    print(f\"{name}: atomic Number {atomic_number}\")\n",
    "else:\n",
    "    print(\"Elements not found.Please try another symbol.\")"
   ]
  }
 ],
 "metadata": {
  "kernelspec": {
   "display_name": "Python 3 (ipykernel)",
   "language": "python",
   "name": "python3"
  },
  "language_info": {
   "codemirror_mode": {
    "name": "ipython",
    "version": 3
   },
   "file_extension": ".py",
   "mimetype": "text/x-python",
   "name": "python",
   "nbconvert_exporter": "python",
   "pygments_lexer": "ipython3",
   "version": "3.12.4"
  }
 },
 "nbformat": 4,
 "nbformat_minor": 5
}

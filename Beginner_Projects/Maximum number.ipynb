{
 "cells": [
  {
   "cell_type": "code",
   "execution_count": 13,
   "id": "a70cac18-7686-4d9c-8f61-dfaeedde0bcd",
   "metadata": {},
   "outputs": [
    {
     "name": "stdin",
     "output_type": "stream",
     "text": [
      "Enter first number:  5\n",
      "Enter second number:  9\n",
      "Enter third number:  10\n"
     ]
    },
    {
     "name": "stdout",
     "output_type": "stream",
     "text": [
      "10.0 is Largest number\n"
     ]
    }
   ],
   "source": [
    "# Create a program that lets the user submit three numbers and the program calculates the maximum number.\n",
    "\n",
    "# Step 1: Take three number input from user\n",
    "a = float(input(\"Enter first number: \"))\n",
    "b = float(input(\"Enter second number: \"))\n",
    "c = float(input(\"Enter third number: \"))\n",
    "\n",
    "# Step 2: Comparision between numbers\n",
    "if a>b and a>c:\n",
    "    print(f\"{a} is Largest number\")\n",
    "elif a<b and b>c:\n",
    "    print(f\"{b} is Largest number\")\n",
    "else:\n",
    "    print(f\"{c} is Largest number\")"
   ]
  },
  {
   "cell_type": "code",
   "execution_count": 5,
   "id": "ea25d308-5688-4be4-b9db-e1f9d27f29d3",
   "metadata": {},
   "outputs": [
    {
     "name": "stdin",
     "output_type": "stream",
     "text": [
      "Enter the first number:  5\n",
      "Enter the second number:  9\n",
      "Enter the third number:  10\n"
     ]
    },
    {
     "name": "stdout",
     "output_type": "stream",
     "text": [
      "The largest of the three numbers is: 10.0\n"
     ]
    }
   ],
   "source": [
    "# Step 1: Get user input for three numbers\n",
    "number1 = input(\"Enter the first number: \")\n",
    "number2 = input(\"Enter the second number: \")\n",
    "number3 = input(\"Enter the third number: \")\n",
    "\n",
    "# Step 2: Convert inputs to floats (to handle decimal values)\n",
    "number1 = float(number1)\n",
    "number2 = float(number2)\n",
    "number3 = float(number3)\n",
    "\n",
    "# Step 3: Determine the largest number using the max() function\n",
    "largest_number = max(number1, number2, number3)\n",
    "\n",
    "# Step 4: Display the result\n",
    "print(\"The largest of the three numbers is:\", largest_number)"
   ]
  }
 ],
 "metadata": {
  "kernelspec": {
   "display_name": "Python 3 (ipykernel)",
   "language": "python",
   "name": "python3"
  },
  "language_info": {
   "codemirror_mode": {
    "name": "ipython",
    "version": 3
   },
   "file_extension": ".py",
   "mimetype": "text/x-python",
   "name": "python",
   "nbconvert_exporter": "python",
   "pygments_lexer": "ipython3",
   "version": "3.12.4"
  }
 },
 "nbformat": 4,
 "nbformat_minor": 5
}

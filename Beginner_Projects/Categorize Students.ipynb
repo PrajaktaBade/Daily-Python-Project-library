{
 "cells": [
  {
   "cell_type": "code",
   "execution_count": null,
   "id": "1806c908-fa35-4d37-8521-c7b412a9f5a2",
   "metadata": {},
   "outputs": [],
   "source": [
    "# Write a program to perform some categorization of dictionary data."
   ]
  },
  {
   "cell_type": "code",
   "execution_count": 1,
   "id": "3eb919e3-0df2-4f38-8633-5375e26eef26",
   "metadata": {},
   "outputs": [
    {
     "name": "stdout",
     "output_type": "stream",
     "text": [
      "Student Categories:\n",
      "Alice:Pass\n",
      "Bob:Fail\n",
      "Charlie:Pass\n",
      "Diana:Fail\n",
      "Eve:Pass\n"
     ]
    }
   ],
   "source": [
    "# Initial dictionary of students and their grades\n",
    "grades = {\n",
    "    \"Alice\": 78,\n",
    "    \"Bob\": 42,\n",
    "    \"Charlie\": 65,\n",
    "    \"Diana\": 49,\n",
    "    \"Eve\": 90\n",
    "}\n",
    "\n",
    "# Create a new dictionary to categorize students\n",
    "categories = {}\n",
    "\n",
    "for student, grade in grades.items():\n",
    "    if grade >= 50:\n",
    "        categories[student] = \"Pass\"\n",
    "    else:\n",
    "        categories[student] = \"Fail\"\n",
    "\n",
    "# Print the categorized dictionary\n",
    "print(\"Student Categories:\")\n",
    "for student, status in categories.items():\n",
    "    print(f\"{student}:{status}\")"
   ]
  }
 ],
 "metadata": {
  "kernelspec": {
   "display_name": "Python 3 (ipykernel)",
   "language": "python",
   "name": "python3"
  },
  "language_info": {
   "codemirror_mode": {
    "name": "ipython",
    "version": 3
   },
   "file_extension": ".py",
   "mimetype": "text/x-python",
   "name": "python",
   "nbconvert_exporter": "python",
   "pygments_lexer": "ipython3",
   "version": "3.12.4"
  }
 },
 "nbformat": 4,
 "nbformat_minor": 5
}

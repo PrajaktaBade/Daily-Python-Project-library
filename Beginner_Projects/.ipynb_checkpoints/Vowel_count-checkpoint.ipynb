{
 "cells": [
  {
   "cell_type": "code",
   "execution_count": null,
   "id": "758cde43-01bb-4484-9873-57c9f4a0850a",
   "metadata": {},
   "outputs": [],
   "source": [
    "# Write a program defines a string and counts how many vowels (a, e, i, o, u) are present in that string. \n",
    "# It then displays the count of vowels."
   ]
  },
  {
   "cell_type": "code",
   "execution_count": 5,
   "id": "3f10d6a0-39c3-4069-9f48-e13b636ce02a",
   "metadata": {},
   "outputs": [
    {
     "name": "stdin",
     "output_type": "stream",
     "text": [
      "Enter a string:  Hi,I am Prajakta Bade.\n"
     ]
    },
    {
     "name": "stdout",
     "output_type": "stream",
     "text": [
      "The number of vowels in the string is: 8\n"
     ]
    }
   ],
   "source": [
    "text = input(\"Enter a string: \")\n",
    "\n",
    "vowel_count = 0\n",
    "\n",
    "for char in text.lower():\n",
    "    if char in \"aeiou\":\n",
    "        vowel_count +=1\n",
    "\n",
    "print(f\"The number of vowels in the string is: {vowel_count}\")\n",
    "\n"
   ]
  }
 ],
 "metadata": {
  "kernelspec": {
   "display_name": "Python 3 (ipykernel)",
   "language": "python",
   "name": "python3"
  },
  "language_info": {
   "codemirror_mode": {
    "name": "ipython",
    "version": 3
   },
   "file_extension": ".py",
   "mimetype": "text/x-python",
   "name": "python",
   "nbconvert_exporter": "python",
   "pygments_lexer": "ipython3",
   "version": "3.12.4"
  }
 },
 "nbformat": 4,
 "nbformat_minor": 5
}

{
 "cells": [
  {
   "cell_type": "code",
   "execution_count": null,
   "id": "0bddaff9-c891-4270-84c4-b4b5bc4987ef",
   "metadata": {},
   "outputs": [],
   "source": [
    "# Build a program that the user to input two numbers and an operation (addition, subtraction, multiplication, or division).\n",
    "# It performs the operation on the two numbers and displays the result"
   ]
  },
  {
   "cell_type": "code",
   "execution_count": 9,
   "id": "fb3f5336-be10-4235-855c-4d8ab11b85f1",
   "metadata": {},
   "outputs": [
    {
     "name": "stdin",
     "output_type": "stream",
     "text": [
      "Enter a first number:  5\n",
      "Enter a second number:  6\n",
      "Enter a operation you have to perform(add,sub,mult,div):  add\n"
     ]
    },
    {
     "name": "stdout",
     "output_type": "stream",
     "text": [
      "The result is:  11.0\n"
     ]
    }
   ],
   "source": [
    "num1 = float(input(\"Enter a first number: \"))\n",
    "num2 = float(input(\"Enter a second number: \"))\n",
    "\n",
    "operation = str(input(\"Enter a operation you have to perform(add,sub,mult,div): \"))\n",
    "\n",
    "if operation == 'add':\n",
    "    result = num1 + num2\n",
    "elif operation == 'sub':\n",
    "    result = num1 - num2\n",
    "elif operation == 'mult':\n",
    "    result = num1 * num2\n",
    "elif operation == 'div':\n",
    "    if num2 !=0:\n",
    "        result = num1 / num2\n",
    "    else:\n",
    "        result = \"Error: Division by zero is not allowed.\"\n",
    "else:\n",
    "    reult = \"Invalid operation.\"\n",
    "    \n",
    "print(\"The result is: \",result)\n",
    "\n"
   ]
  }
 ],
 "metadata": {
  "kernelspec": {
   "display_name": "Python 3 (ipykernel)",
   "language": "python",
   "name": "python3"
  },
  "language_info": {
   "codemirror_mode": {
    "name": "ipython",
    "version": 3
   },
   "file_extension": ".py",
   "mimetype": "text/x-python",
   "name": "python",
   "nbconvert_exporter": "python",
   "pygments_lexer": "ipython3",
   "version": "3.12.4"
  }
 },
 "nbformat": 4,
 "nbformat_minor": 5
}

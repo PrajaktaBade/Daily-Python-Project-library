{
 "cells": [
  {
   "cell_type": "code",
   "execution_count": null,
   "id": "0ce817d2-41e1-4a57-ac9d-5f7c444a9c5e",
   "metadata": {},
   "outputs": [],
   "source": [
    "# In this project, your task is to improve previous(to check number is positive or negative without using function) project by:\n",
    "\n",
    "#(1) Doing the checks inside a function definition and then calling that function.\n",
    "\n",
    "#(2) Including the number in the messages (e.g., “The number -5 is negative”) as shown in the Expected Output section.\n",
    "\n"
   ]
  },
  {
   "cell_type": "code",
   "execution_count": 5,
   "id": "ff779b1f-534e-468a-b15f-f231511b5da5",
   "metadata": {},
   "outputs": [
    {
     "name": "stdin",
     "output_type": "stream",
     "text": [
      "Enter a number: -17\n"
     ]
    },
    {
     "name": "stdout",
     "output_type": "stream",
     "text": [
      "The number -17 is negative.\n"
     ]
    }
   ],
   "source": [
    "def check_number(number):\n",
    "    \"\"\"Checks if a number is positive, negative, or zero.\"\"\"\n",
    "    if number > 0:\n",
    "        return f\"The number {number:.0f} is positive.\"\n",
    "    elif number < 0:\n",
    "        return f\"The number {number:.0f} is negative.\"\n",
    "    else: \n",
    "        return f\"The number {number:.0f} is zero.\"\n",
    "\n",
    "number = float(input(\"Enter a number:\"))\n",
    "\n",
    "print(check_number(number))"
   ]
  }
 ],
 "metadata": {
  "kernelspec": {
   "display_name": "Python 3 (ipykernel)",
   "language": "python",
   "name": "python3"
  },
  "language_info": {
   "codemirror_mode": {
    "name": "ipython",
    "version": 3
   },
   "file_extension": ".py",
   "mimetype": "text/x-python",
   "name": "python",
   "nbconvert_exporter": "python",
   "pygments_lexer": "ipython3",
   "version": "3.12.4"
  }
 },
 "nbformat": 4,
 "nbformat_minor": 5
}

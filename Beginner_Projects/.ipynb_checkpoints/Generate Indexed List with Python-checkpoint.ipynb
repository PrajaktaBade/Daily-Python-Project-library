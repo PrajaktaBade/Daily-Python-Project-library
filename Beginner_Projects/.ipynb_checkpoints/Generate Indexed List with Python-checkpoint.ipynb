{
 "cells": [
  {
   "cell_type": "code",
   "execution_count": 3,
   "id": "9be32714-084d-43c7-893f-104474086b57",
   "metadata": {},
   "outputs": [
    {
     "name": "stdout",
     "output_type": "stream",
     "text": [
      "Indexed list: [('a', 0), ('b', 1), ('c', 2), ('n', 3)]\n"
     ]
    }
   ],
   "source": [
    "# creating a program that takes a list of elements, processes it using list comprehension, and returns a \n",
    "# new list that pairs each element with its index in the original list.\n",
    "\n",
    "mylist = ['a', 'b', 'c']\n",
    "\n",
    "# Creating an empty list to store the tuples\n",
    "indexed_list = []\n",
    "\n",
    "# Using a for loop to iterate over the list with enumeration\n",
    "for idx, item in enumerate(mylist):\n",
    "    #Appending the tuple(item,index) to the indexed_list\n",
    "    indexed_list.append((item,idx))\n",
    "\n",
    "# Printing the original list and the indexed list\n",
    "print(\"Indexed list:\", indexed_list)"
   ]
  }
 ],
 "metadata": {
  "kernelspec": {
   "display_name": "Python 3 (ipykernel)",
   "language": "python",
   "name": "python3"
  },
  "language_info": {
   "codemirror_mode": {
    "name": "ipython",
    "version": 3
   },
   "file_extension": ".py",
   "mimetype": "text/x-python",
   "name": "python",
   "nbconvert_exporter": "python",
   "pygments_lexer": "ipython3",
   "version": "3.12.4"
  }
 },
 "nbformat": 4,
 "nbformat_minor": 5
}

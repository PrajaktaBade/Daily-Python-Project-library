{
 "cells": [
  {
   "cell_type": "code",
   "execution_count": 1,
   "id": "2f06f6f7-6f3b-4639-90a7-3be1884c09ee",
   "metadata": {},
   "outputs": [
    {
     "name": "stdout",
     "output_type": "stream",
     "text": [
      "30\n",
      "26\n"
     ]
    }
   ],
   "source": [
    "# To create two Python functions -one that calculates the area and one that calculates the perimeter of a rectangle.\n",
    "def rectangle_area(width, height):\n",
    "    return width * height\n",
    "\n",
    "def rectangle_perimeter(width, height):\n",
    "    return 2 * (width + height)\n",
    "\n",
    "# Calculate area and perimeter\n",
    "area = rectangle_area(10,3)\n",
    "perimeter = rectangle_perimeter(10,3)\n",
    "\n",
    "#Display the results\n",
    "print(area)\n",
    "print(perimeter)"
   ]
  }
 ],
 "metadata": {
  "kernelspec": {
   "display_name": "Python 3 (ipykernel)",
   "language": "python",
   "name": "python3"
  },
  "language_info": {
   "codemirror_mode": {
    "name": "ipython",
    "version": 3
   },
   "file_extension": ".py",
   "mimetype": "text/x-python",
   "name": "python",
   "nbconvert_exporter": "python",
   "pygments_lexer": "ipython3",
   "version": "3.12.4"
  }
 },
 "nbformat": 4,
 "nbformat_minor": 5
}

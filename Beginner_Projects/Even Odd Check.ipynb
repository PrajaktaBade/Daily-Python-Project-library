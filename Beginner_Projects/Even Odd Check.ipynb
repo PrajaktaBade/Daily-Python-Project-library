{
 "cells": [
  {
   "cell_type": "code",
   "execution_count": 17,
   "id": "4f583f99-e590-47b9-bee1-b007c68aff9b",
   "metadata": {},
   "outputs": [
    {
     "name": "stdin",
     "output_type": "stream",
     "text": [
      "Enter a number:  16\n"
     ]
    },
    {
     "name": "stdout",
     "output_type": "stream",
     "text": [
      "The number 16 is even.\n"
     ]
    }
   ],
   "source": [
    "# Create a program that checks if a number is even or odd.\n",
    "# Step 1: Get user input\n",
    "number = input(\"Enter a number: \")\n",
    "\n",
    "# Step 2: Convert input to an integer\n",
    "number = int(number)\n",
    "\n",
    "# Step 3: Check if the number is even or odd\n",
    "if number % 2 == 0:\n",
    "    # Step 4: Display the result if the number is even\n",
    "    print(f\"The number {number} is even.\")\n",
    "else:\n",
    "    # Step 5: Display the result if the number is odd\n",
    "    print(f\"The number {number} is odd.\")\n",
    "\n"
   ]
  },
  {
   "cell_type": "code",
   "execution_count": null,
   "id": "d26cef66-ea73-4c97-8089-1fc86f085646",
   "metadata": {},
   "outputs": [],
   "source": []
  }
 ],
 "metadata": {
  "kernelspec": {
   "display_name": "Python 3 (ipykernel)",
   "language": "python",
   "name": "python3"
  },
  "language_info": {
   "codemirror_mode": {
    "name": "ipython",
    "version": 3
   },
   "file_extension": ".py",
   "mimetype": "text/x-python",
   "name": "python",
   "nbconvert_exporter": "python",
   "pygments_lexer": "ipython3",
   "version": "3.12.4"
  }
 },
 "nbformat": 4,
 "nbformat_minor": 5
}

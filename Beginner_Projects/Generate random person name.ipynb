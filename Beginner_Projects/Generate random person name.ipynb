{
 "cells": [
  {
   "cell_type": "code",
   "execution_count": null,
   "id": "1a610797-42b4-4aa9-a574-f63c5936993d",
   "metadata": {},
   "outputs": [],
   "source": [
    "# Create a program that reads a list of names from a text file, randomly picks one, and displays it. \n",
    "# It's perfect for practicing file handling and working with lists in Python."
   ]
  },
  {
   "cell_type": "code",
   "execution_count": 11,
   "id": "a6e2258c-956a-4d11-902f-6ff696d80f55",
   "metadata": {},
   "outputs": [
    {
     "name": "stdout",
     "output_type": "stream",
     "text": [
      "randomly selected name:  Brenna\n"
     ]
    }
   ],
   "source": [
    "import random\n",
    "\n",
    "# Step 1: Open the text file in read mode and read all lines\n",
    "with open(\"names.txt\",\"r\") as file:\n",
    "    names = file.readlines()\n",
    "\n",
    "# Step 2: Strip any newline characters from each name\n",
    "names = [name.strip() for name in names]\n",
    "\n",
    "#Step 3: Randomly select a name from the list\n",
    "random_name = random.choice(names)\n",
    "\n",
    "# Step 4: Display the selectedf name\n",
    "print(\"randomly selected name: \",random_name)"
   ]
  },
  {
   "cell_type": "code",
   "execution_count": null,
   "id": "7a66e647-247a-46d4-aa31-fab6469a4508",
   "metadata": {},
   "outputs": [],
   "source": []
  }
 ],
 "metadata": {
  "kernelspec": {
   "display_name": "Python 3 (ipykernel)",
   "language": "python",
   "name": "python3"
  },
  "language_info": {
   "codemirror_mode": {
    "name": "ipython",
    "version": 3
   },
   "file_extension": ".py",
   "mimetype": "text/x-python",
   "name": "python",
   "nbconvert_exporter": "python",
   "pygments_lexer": "ipython3",
   "version": "3.12.4"
  }
 },
 "nbformat": 4,
 "nbformat_minor": 5
}

{
 "cells": [
  {
   "cell_type": "code",
   "execution_count": null,
   "id": "fb0ed39d-d2be-4645-9b37-a94f3919f219",
   "metadata": {},
   "outputs": [],
   "source": [
    "# Write a program that merges two lists into one and removes any common items between them."
   ]
  },
  {
   "cell_type": "code",
   "execution_count": null,
   "id": "dd9612da-65b7-4b2f-8319-643a153c2973",
   "metadata": {},
   "outputs": [],
   "source": [
    "# Step 1: Define two lists with some common elements\n",
    "list1 = [1,2,3,4]\n",
    "list2 = [3,4,5,6]\n",
    "\n",
    "# Step 2: Merge both lists into one\n",
    "merged_list = list1 + list2\n",
    "\n",
    "#Step 3: Remove both lists into one\n",
    "unique_elemets = [item for item in merged_list if merged_list.count(item) == 1]\n",
    "\n",
    "#Step 4: Display the result\n",
    "print(\"List with merged unique elements: \", unique_elements)"
   ]
  }
 ],
 "metadata": {
  "kernelspec": {
   "display_name": "Python 3 (ipykernel)",
   "language": "python",
   "name": "python3"
  },
  "language_info": {
   "codemirror_mode": {
    "name": "ipython",
    "version": 3
   },
   "file_extension": ".py",
   "mimetype": "text/x-python",
   "name": "python",
   "nbconvert_exporter": "python",
   "pygments_lexer": "ipython3",
   "version": "3.12.4"
  }
 },
 "nbformat": 4,
 "nbformat_minor": 5
}

{
 "cells": [
  {
   "cell_type": "code",
   "execution_count": 5,
   "id": "665ad065-1886-4818-b1ec-d00265e8666f",
   "metadata": {},
   "outputs": [
    {
     "ename": "ValueError",
     "evalue": "invalid literal for int() with base 10: '5,8,10'",
     "output_type": "error",
     "traceback": [
      "\u001b[0;31m---------------------------------------------------------------------------\u001b[0m",
      "\u001b[0;31mValueError\u001b[0m                                Traceback (most recent call last)",
      "Cell \u001b[0;32mIn[5], line 10\u001b[0m\n\u001b[1;32m      8\u001b[0m     numbers \u001b[38;5;241m=\u001b[39m file\u001b[38;5;241m.\u001b[39mreadlines()\n\u001b[1;32m      9\u001b[0m     \u001b[38;5;66;03m# Convert the list of strings to a list of integers\u001b[39;00m\n\u001b[0;32m---> 10\u001b[0m     numbers \u001b[38;5;241m=\u001b[39m [\u001b[38;5;28mint\u001b[39m(num\u001b[38;5;241m.\u001b[39mstrip()) \u001b[38;5;28;01mfor\u001b[39;00m num \u001b[38;5;129;01min\u001b[39;00m numbers]\n\u001b[1;32m     11\u001b[0m     \u001b[38;5;66;03m# find and return the maximum number\u001b[39;00m\n\u001b[1;32m     13\u001b[0m maximum \u001b[38;5;241m=\u001b[39m \u001b[38;5;28mmax\u001b[39m(numbers)\n",
      "\u001b[0;31mValueError\u001b[0m: invalid literal for int() with base 10: '5,8,10'"
     ]
    }
   ],
   "source": [
    "# Write a program to get a maximum number which will be from text file.\n",
    "\n",
    "# Store the text filename in a variable for concenience\n",
    "filename = 'numbers.txt'\n",
    "\n",
    "# store the data of the text file in a list\n",
    "with open(filename, 'r') as file:\n",
    "    numbers = file.readlines()\n",
    "    # Convert the list of strings to a list of integers\n",
    "    numbers = [int(num.strip()) for num in numbers]\n",
    "    # find and return the maximum number\n",
    "\n",
    "maximum = max(numbers)\n",
    "\n",
    "print(\"The maximum number in the file is: \",maximum)\n"
   ]
  },
  {
   "cell_type": "code",
   "execution_count": null,
   "id": "0be60f48-ef4d-4cd4-9b4d-f8d33f5f8d60",
   "metadata": {},
   "outputs": [],
   "source": [
    "# Store the text filename in a variable for convenience\n",
    "filename = 'numbers.txt'\n",
    "\n",
    "\n",
    "# Store the data of the text file in a list\n",
    "with open(filename, 'r') as file:\n",
    "    numbers = file.readlines()\n",
    "    # Convert the list of strings to a list of integers\n",
    "    numbers = [int(num.strip()) for num in numbers]\n",
    "    # Find and return the maximum number\n",
    "    \n",
    "maximum = max(numbers)\n",
    "\n",
    "print(\"The maximum number in the file is: \", maximum)\n"
   ]
  }
 ],
 "metadata": {
  "kernelspec": {
   "display_name": "Python 3 (ipykernel)",
   "language": "python",
   "name": "python3"
  },
  "language_info": {
   "codemirror_mode": {
    "name": "ipython",
    "version": 3
   },
   "file_extension": ".py",
   "mimetype": "text/x-python",
   "name": "python",
   "nbconvert_exporter": "python",
   "pygments_lexer": "ipython3",
   "version": "3.12.4"
  }
 },
 "nbformat": 4,
 "nbformat_minor": 5
}

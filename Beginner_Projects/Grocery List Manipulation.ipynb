{
 "cells": [
  {
   "cell_type": "code",
   "execution_count": null,
   "id": "1eabb8ea-fb45-4199-9425-a32780ca0cb2",
   "metadata": {},
   "outputs": [],
   "source": [
    "# For this project, you have the following tasks:\n",
    "#Create a Python script and paste the following list there.\n",
    "#    grocery_list = [\"apples\", \"bread\", \"milk\", \"eggs\", \"bananas\"]\n",
    "# 1.Add the string “beans” to the list.\n",
    "# 2.Remove the item “bread” from the list.\n",
    "# 3.Sort the list alphabetically.\n",
    "# 4.Display the updated grocery list."
   ]
  },
  {
   "cell_type": "code",
   "execution_count": 3,
   "id": "54098bfb-c3f9-4b24-816e-92cbd2545f34",
   "metadata": {},
   "outputs": [
    {
     "name": "stdout",
     "output_type": "stream",
     "text": [
      "Updated Grocery List:\n",
      "apples\n",
      "bananas\n",
      "beans\n",
      "eggs\n",
      "milk\n"
     ]
    }
   ],
   "source": [
    "# Initial grocery list\n",
    "grocery_list = [\"apples\", \"bread\", \"milk\", \"eggs\", \"bananas\"]\n",
    "\n",
    "# Step 1: Add a new item\n",
    "grocery_list.append(\"beans\")\n",
    "\n",
    "# Step 2: Remove an item\n",
    "grocery_list.remove(\"bread\")\n",
    "\n",
    "# Step 3: Sort the list alphabetically\n",
    "\n",
    "grocery_list.sort()\n",
    "\n",
    "# Step 4: Print the updated grocery list\n",
    "print(\"Updated Grocery List:\")\n",
    "for item in grocery_list:\n",
    "    print(item)"
   ]
  }
 ],
 "metadata": {
  "kernelspec": {
   "display_name": "Python 3 (ipykernel)",
   "language": "python",
   "name": "python3"
  },
  "language_info": {
   "codemirror_mode": {
    "name": "ipython",
    "version": 3
   },
   "file_extension": ".py",
   "mimetype": "text/x-python",
   "name": "python",
   "nbconvert_exporter": "python",
   "pygments_lexer": "ipython3",
   "version": "3.12.4"
  }
 },
 "nbformat": 4,
 "nbformat_minor": 5
}

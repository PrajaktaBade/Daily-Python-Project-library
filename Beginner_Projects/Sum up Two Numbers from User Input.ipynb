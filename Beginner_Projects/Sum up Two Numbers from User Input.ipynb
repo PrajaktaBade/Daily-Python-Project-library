{
 "cells": [
  {
   "cell_type": "code",
   "execution_count": null,
   "id": "fdaa6732-dce7-4977-bf06-c66a5c3e5a42",
   "metadata": {},
   "outputs": [],
   "source": []
  },
  {
   "cell_type": "code",
   "execution_count": null,
   "id": "c1aeb75a-7073-4d62-9118-c9e01da2b0d6",
   "metadata": {},
   "outputs": [],
   "source": [
    "# Step 1: Get user input\n",
    "first_number = input(\"Enter the first number: \")\n",
    "second_number = input(\"Enter the second number: \")\n",
    "\n",
    "# Step 2: Convert inputs to integers\n",
    "first_number = int(first_number)\n",
    "second_number = int(second_number)\n",
    "\n",
    "# Step 3: Calculate the sum\n",
    "result = first_number + second_number\n",
    "\n",
    "# Step 4: Display the result\n",
    "print(\"The sum of the two numbers is:\", result)"
   ]
  }
 ],
 "metadata": {
  "kernelspec": {
   "display_name": "Python 3 (ipykernel)",
   "language": "python",
   "name": "python3"
  },
  "language_info": {
   "codemirror_mode": {
    "name": "ipython",
    "version": 3
   },
   "file_extension": ".py",
   "mimetype": "text/x-python",
   "name": "python",
   "nbconvert_exporter": "python",
   "pygments_lexer": "ipython3",
   "version": "3.12.4"
  }
 },
 "nbformat": 4,
 "nbformat_minor": 5
}

{
 "cells": [
  {
   "cell_type": "code",
   "execution_count": 3,
   "id": "3208dd91-4108-4ce8-a5c2-a1b568d3b9c9",
   "metadata": {},
   "outputs": [
    {
     "name": "stdin",
     "output_type": "stream",
     "text": [
      "Enter sentence 1:  I am Prajakta Bade.\n",
      "Enter sentence 2:  I am learning Python\n",
      "Enter sentence 3:  I am a developer.\n"
     ]
    },
    {
     "name": "stdout",
     "output_type": "stream",
     "text": [
      "Sentences have been saved to user_sentences.txt.\n"
     ]
    }
   ],
   "source": [
    "# Create a program that stores data in a text file.\n",
    "\n",
    "#Define the file name\n",
    "filename = \"user_sentences.txt\"\n",
    "\n",
    "# Open the file in write mode\n",
    "with open (filename, \"w\") as file:\n",
    "    # Loop three times to get sentences from the user\n",
    "    for i in range(3):\n",
    "        # Prompt the user to enter a sentence\n",
    "        sentence = input(f\"Enter sentence {i+1}: \")\n",
    "        # Write the sentence to the file\n",
    "        file.write(sentence + \"\\n\")\n",
    "        # If it's not the last sentence, add dash lines\n",
    "        if i < 2:\n",
    "            file.write(\"----------------------------\\n\")\n",
    "\n",
    "print(f\"Sentences have been saved to {filename}.\")"
   ]
  }
 ],
 "metadata": {
  "kernelspec": {
   "display_name": "Python 3 (ipykernel)",
   "language": "python",
   "name": "python3"
  },
  "language_info": {
   "codemirror_mode": {
    "name": "ipython",
    "version": 3
   },
   "file_extension": ".py",
   "mimetype": "text/x-python",
   "name": "python",
   "nbconvert_exporter": "python",
   "pygments_lexer": "ipython3",
   "version": "3.12.4"
  }
 },
 "nbformat": 4,
 "nbformat_minor": 5
}

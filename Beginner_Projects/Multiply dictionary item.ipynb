{
 "cells": [
  {
   "cell_type": "code",
   "execution_count": null,
   "id": "2c3d4071-d7dc-4a31-b4d7-aae0db46236e",
   "metadata": {},
   "outputs": [],
   "source": [
    "# Write a program to add some code that updates all the values of the dictionary by multiplying them by 10. Then, print out the updated dictionary."
   ]
  },
  {
   "cell_type": "code",
   "execution_count": 1,
   "id": "b31e3021-3db7-4684-9db2-578550edfe4b",
   "metadata": {},
   "outputs": [
    {
     "name": "stdout",
     "output_type": "stream",
     "text": [
      "{'apples': 50, 'bananas': 20, 'milk': 10, 'bread': 10}\n"
     ]
    }
   ],
   "source": [
    "grocery_list = {\n",
    "    \"apples\": 5,\n",
    "    \"bananas\": 2,\n",
    "    \"milk\" : 1,\n",
    "    \"bread\": 1\n",
    "}\n",
    "\n",
    "# Multiply all values by 10\n",
    "for item in grocery_list:\n",
    "    grocery_list[item] *= 10\n",
    "\n",
    "# Print the updated grocey list\n",
    "print(grocery_list)\n"
   ]
  },
  {
   "cell_type": "code",
   "execution_count": null,
   "id": "0e59d69b-098c-4ce3-8c60-703e90fa2294",
   "metadata": {},
   "outputs": [],
   "source": []
  }
 ],
 "metadata": {
  "kernelspec": {
   "display_name": "Python 3 (ipykernel)",
   "language": "python",
   "name": "python3"
  },
  "language_info": {
   "codemirror_mode": {
    "name": "ipython",
    "version": 3
   },
   "file_extension": ".py",
   "mimetype": "text/x-python",
   "name": "python",
   "nbconvert_exporter": "python",
   "pygments_lexer": "ipython3",
   "version": "3.12.4"
  }
 },
 "nbformat": 4,
 "nbformat_minor": 5
}

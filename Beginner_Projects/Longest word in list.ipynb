{
 "cells": [
  {
   "cell_type": "code",
   "execution_count": null,
   "id": "9ceec2fe-a5ba-4430-9528-03019f77aa73",
   "metadata": {},
   "outputs": [],
   "source": [
    "# Write a program that takes a list of words and finds the longest word in that list. \n",
    "# The program should also display the length of that word."
   ]
  },
  {
   "cell_type": "code",
   "execution_count": null,
   "id": "f84fd619-c1ed-4c86-bd85-98f6de48f93b",
   "metadata": {},
   "outputs": [],
   "source": [
    "# Step 1: Define a list of words\n",
    "words = [\"apple\", \"banana\", \"cherry\", \"blueberry\"]\n",
    "\n",
    "# Step 2: Initialize variables to store the longest word and its length\n",
    "longest_word = \"\"\n",
    "max_length = 0\n",
    "\n",
    "# Step 3: Iterate through the list to find the longest word\n",
    "for word in words:\n",
    "    if len(word) > max_length:\n",
    "        longest_word = word\n",
    "        max_length = len(word)\n",
    "\n",
    "# Step 4: Display the result\n",
    "print(f'\"{longest_word}\" is the longest word with {max_length} characters.')"
   ]
  }
 ],
 "metadata": {
  "kernelspec": {
   "display_name": "Python 3 (ipykernel)",
   "language": "python",
   "name": "python3"
  },
  "language_info": {
   "codemirror_mode": {
    "name": "ipython",
    "version": 3
   },
   "file_extension": ".py",
   "mimetype": "text/x-python",
   "name": "python",
   "nbconvert_exporter": "python",
   "pygments_lexer": "ipython3",
   "version": "3.12.4"
  }
 },
 "nbformat": 4,
 "nbformat_minor": 5
}

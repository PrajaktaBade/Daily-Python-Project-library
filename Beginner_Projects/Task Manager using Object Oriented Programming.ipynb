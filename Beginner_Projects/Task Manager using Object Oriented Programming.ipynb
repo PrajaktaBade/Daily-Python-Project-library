{
 "cells": [
  {
   "cell_type": "code",
   "execution_count": null,
   "id": "47780498-6b47-4f5d-849a-58650d96c374",
   "metadata": {},
   "outputs": [],
   "source": [
    "# Create a console-based task manager app where users can add, complete, and view tasks."
   ]
  },
  {
   "cell_type": "code",
   "execution_count": null,
   "id": "25a91925-f7b4-40ad-a95d-2758ce844f7d",
   "metadata": {},
   "outputs": [],
   "source": [
    "class Task:\n",
    "    def __init__(self, description):\n",
    "        self.description = description\n",
    "        self.is_completed = False\n",
    "\n",
    "    def mark_completed(self):\n",
    "        self.is_completed = True\n",
    "        print(f\"Task '{self.description}' marked as completed.\")\n",
    "\n",
    "class ToDoList:\n",
    "    def __init__(self):\n",
    "        self.tasks = []\n",
    "\n",
    "    def add_task(self):\n",
    "        description = input(\"Enter the task description: \")\n",
    "        new_task = Task(description)\n",
    "        self.tasks.append(new_task)\n",
    "        print(f\"Task '{description}' added to the to-do list.\")\n",
    "\n",
    "    def complete_task(self):\n",
    "        self.view_tasks()\n",
    "        task_index = int(input(\"Enter the task number to mark as completed: \")) - 1\n",
    "        if 0 <= task_index < len(self.tasks):\n",
    "            self.tasks[task_index].mark_completed()\n",
    "        else:\n",
    "            print(\"Invalid task number.\")\n",
    "\n",
    "    def view_tasks(self):\n",
    "        if not self.tasks:\n",
    "            print(\"No tasks in the to-do list.\")\n",
    "            return\n",
    "        print(\"\\nTo-Do List:\")\n",
    "        for index, task in enumerate(self.tasks, start=1):\n",
    "            status = \"✔️\" if task.is_completed else \"❌\"\n",
    "            print(f\"{index}. {task.description} [{status}]\")\n",
    "\n",
    "    def run(self):\n",
    "        while True:\n",
    "            print(\"\\n1. Add Task\\n2. Complete Task\\n3. View Tasks\\n4. Exit\")\n",
    "            choice = input(\"Enter choice: \")\n",
    "\n",
    "            if choice == '1':\n",
    "                self.add_task()\n",
    "            elif choice == '2':\n",
    "                self.complete_task()\n",
    "            elif choice == '3':\n",
    "                self.view_tasks()\n",
    "            elif choice == '4':\n",
    "                print(\"Exiting...\")\n",
    "                break\n",
    "            else:\n",
    "                print(\"Invalid choice. Please try again.\")\n",
    "\n",
    "if __name__ == \"__main__\":\n",
    "    todo_list = ToDoList()\n",
    "    todo_list.run()"
   ]
  }
 ],
 "metadata": {
  "kernelspec": {
   "display_name": "Python 3 (ipykernel)",
   "language": "python",
   "name": "python3"
  },
  "language_info": {
   "codemirror_mode": {
    "name": "ipython",
    "version": 3
   },
   "file_extension": ".py",
   "mimetype": "text/x-python",
   "name": "python",
   "nbconvert_exporter": "python",
   "pygments_lexer": "ipython3",
   "version": "3.12.4"
  }
 },
 "nbformat": 4,
 "nbformat_minor": 5
}

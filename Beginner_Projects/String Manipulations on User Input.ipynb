{
 "cells": [
  {
   "cell_type": "code",
   "execution_count": 4,
   "id": "2162553a-fa0d-439a-99b5-33fba0417fc4",
   "metadata": {},
   "outputs": [
    {
     "name": "stdin",
     "output_type": "stream",
     "text": [
      "Please enter your full name:  Advit Bade\n"
     ]
    },
    {
     "name": "stdout",
     "output_type": "stream",
     "text": [
      "Your name in uppercase: ADVIT BADE\n",
      "Your name in lowercase: advit bade\n",
      "Total number of characters(excluding spaces): 9\n",
      "Your name reversed: edaB tivdA\n"
     ]
    }
   ],
   "source": [
    "# To create a simple program that asks the user to enter their full name, and the program will perform several operations \n",
    "#to the user entry as described in the “How Project Works” section further below.\n",
    "\n",
    "# Get the user's full name\n",
    "full_name = input(\"Please enter your full name: \")\n",
    "\n",
    "# Display the name in uppercase\n",
    "print(\"Your name in uppercase:\", full_name.upper())\n",
    "\n",
    "# Display the name in lowercase\n",
    "print(\"Your name in lowercase:\", full_name.lower())\n",
    "\n",
    "# Remove spaces and count the total number of characters\n",
    "name_no_spaces = full_name.replace(\" \",\"\")\n",
    "print(\"Total number of characters(excluding spaces):\", len(name_no_spaces))\n",
    "\n",
    "# Reverse the name\n",
    "reversed_name = full_name[::-1]\n",
    "print(\"Your name reversed:\", reversed_name)\n",
    "\n",
    "\n",
    "\n",
    "\n"
   ]
  },
  {
   "cell_type": "code",
   "execution_count": null,
   "id": "efa528a0-811b-4444-915a-945c66b89e02",
   "metadata": {},
   "outputs": [],
   "source": []
  }
 ],
 "metadata": {
  "kernelspec": {
   "display_name": "Python 3 (ipykernel)",
   "language": "python",
   "name": "python3"
  },
  "language_info": {
   "codemirror_mode": {
    "name": "ipython",
    "version": 3
   },
   "file_extension": ".py",
   "mimetype": "text/x-python",
   "name": "python",
   "nbconvert_exporter": "python",
   "pygments_lexer": "ipython3",
   "version": "3.12.4"
  }
 },
 "nbformat": 4,
 "nbformat_minor": 5
}

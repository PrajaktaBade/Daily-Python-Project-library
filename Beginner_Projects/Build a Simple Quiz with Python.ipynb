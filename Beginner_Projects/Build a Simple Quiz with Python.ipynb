{
 "cells": [
  {
   "cell_type": "code",
   "execution_count": null,
   "id": "1f9c3c2b-c5af-48e2-9137-f9500133b9e8",
   "metadata": {},
   "outputs": [],
   "source": [
    "# Build a command line-based quiz game with Python."
   ]
  },
  {
   "cell_type": "code",
   "execution_count": null,
   "id": "9cad2e23-301e-4f23-80ee-763f6ab35bd7",
   "metadata": {},
   "outputs": [
    {
     "name": "stdout",
     "output_type": "stream",
     "text": [
      "What is the capital of France?\n",
      "1. Paris\n"
     ]
    }
   ],
   "source": [
    "def ask_question(question, options, correct_answer):\n",
    "    print(question)\n",
    "    for i, option in enumerate(options, 1):\n",
    "        print(f\"{i}. {options[1]}\")\n",
    "    \n",
    "        # Get user's answer\n",
    "        answer = input(\"Your answer (1/2/3/4): \").strip()\n",
    "\n",
    "        # Check if the answer is correct\n",
    "        if answer.isdigit() and int(answer) == correct_answer:\n",
    "            print(\"Correct!\\n\")\n",
    "            return True\n",
    "        else:\n",
    "            print(f\"Wrong! The correct answer was {correct_answer}. {options[correct_answer - 1]}\\n\")\n",
    "            return False\n",
    "\n",
    "def run_quiz(questions):\n",
    "    score = 0\n",
    "\n",
    "    # Iterate through the list of questions\n",
    "    for question, options, correct_answer in questions:\n",
    "        if ask_question(question, options, correct_answer):\n",
    "            score += 1\n",
    "\n",
    "    # Display the final score\n",
    "    print(f\"Quiz completed! Your final score is {score}/{len(questions)}.\\n\")\n",
    "\n",
    "# List of questions (question,options, correct_answer)\n",
    "quiz_questions = [\n",
    "    (\"What is the capital of France?\",[\"Berlin\",\"Paris\",\"Madrid\",\"Rome\"],2),\n",
    "    (\"Which planet is known for Red Planet?\",[\"Earth\",\"Venus\",\"Mars\",\"Jupiter\"],3),\n",
    "    (\"What is the chemical symbol for water?\",[\"H2O\",\"O2\",\"CO2\",\"H2\"],1)\n",
    "]\n",
    "\n",
    "# Run the Quiz\n",
    "run_quiz(quiz_questions)"
   ]
  },
  {
   "cell_type": "code",
   "execution_count": null,
   "id": "de764d2a-1a26-4c01-8b6a-79a69744b0b5",
   "metadata": {},
   "outputs": [],
   "source": []
  }
 ],
 "metadata": {
  "kernelspec": {
   "display_name": "Python 3 (ipykernel)",
   "language": "python",
   "name": "python3"
  },
  "language_info": {
   "codemirror_mode": {
    "name": "ipython",
    "version": 3
   },
   "file_extension": ".py",
   "mimetype": "text/x-python",
   "name": "python",
   "nbconvert_exporter": "python",
   "pygments_lexer": "ipython3",
   "version": "3.12.4"
  }
 },
 "nbformat": 4,
 "nbformat_minor": 5
}

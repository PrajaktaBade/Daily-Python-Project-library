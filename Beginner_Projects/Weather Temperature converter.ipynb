{
 "cells": [
  {
   "cell_type": "code",
   "execution_count": null,
   "id": "b91a946b-e6bf-48ea-a8e0-86bce0b41665",
   "metadata": {},
   "outputs": [],
   "source": [
    "# Create a program that converts a list of temperatures in Fahrenheit to Celsius and vice versa."
   ]
  },
  {
   "cell_type": "code",
   "execution_count": 1,
   "id": "9ca9edfe-d077-4eca-b2f9-d0f1b2f21c21",
   "metadata": {},
   "outputs": [
    {
     "name": "stdout",
     "output_type": "stream",
     "text": [
      "Temperatures in Fahrenheit:  [32, 50, 77, 100, 212]\n",
      "Temperatures in celsius:  [0.0, 10.0, 25.0, 37.77777777777778, 100.0]\n"
     ]
    }
   ],
   "source": [
    "# Step 1: define a list of temperature in Fahrenheit\n",
    "temperatures_fahrenheit = [32,50,77,100,212]\n",
    "\n",
    "# Step 2 : Convert each temperature to celsius\n",
    "temperatures_celsius = [(temp -32) * 5 / 9 for temp in temperatures_fahrenheit]\n",
    "\n",
    "# Step 3 : Print both lists\n",
    "print(\"Temperatures in Fahrenheit: \",temperatures_fahrenheit)\n",
    "print(\"Temperatures in celsius: \",temperatures_celsius)"
   ]
  }
 ],
 "metadata": {
  "kernelspec": {
   "display_name": "Python 3 (ipykernel)",
   "language": "python",
   "name": "python3"
  },
  "language_info": {
   "codemirror_mode": {
    "name": "ipython",
    "version": 3
   },
   "file_extension": ".py",
   "mimetype": "text/x-python",
   "name": "python",
   "nbconvert_exporter": "python",
   "pygments_lexer": "ipython3",
   "version": "3.12.4"
  }
 },
 "nbformat": 4,
 "nbformat_minor": 5
}

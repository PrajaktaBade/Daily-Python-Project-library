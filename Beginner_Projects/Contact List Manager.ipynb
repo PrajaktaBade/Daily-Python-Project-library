{
 "cells": [
  {
   "cell_type": "code",
   "execution_count": null,
   "id": "eaa42ec8-9dc1-4e73-b9ed-b0fce400c968",
   "metadata": {},
   "outputs": [],
   "source": [
    "# Create a program that lets the user submit names and phone numbers through the console and stores those numbers in a text file."
   ]
  },
  {
   "cell_type": "code",
   "execution_count": 1,
   "id": "e212fb44-05ca-4815-bac0-90c279c9386b",
   "metadata": {},
   "outputs": [
    {
     "name": "stdin",
     "output_type": "stream",
     "text": [
      "Enter contact name (or type 'done' to finish):  Prajakta Bade\n",
      "Enter phone number for Prajakta Bade:  07424173679\n",
      "Enter contact name (or type 'done' to finish):  done\n"
     ]
    },
    {
     "name": "stdout",
     "output_type": "stream",
     "text": [
      "Contacts saved to 'contacts.txt'.\n"
     ]
    }
   ],
   "source": [
    "# Simple Contact List Manager\n",
    "\n",
    "contacts = []\n",
    "\n",
    "while True:\n",
    "    #Prompt for contact name\n",
    "    name = input(\"Enter contact name (or type 'done' to finish): \").strip()\n",
    "\n",
    "    if name.lower() == 'done':\n",
    "        break\n",
    "\n",
    "    # Prompt for contact phone number\n",
    "    phone_number = input(f\"Enter phone number for {name}: \").strip()\n",
    "\n",
    "    # Add the contact to the list\n",
    "    contacts.append(f\"{name}: {phone_number}\")\n",
    "\n",
    "# write the contacts to a text file\n",
    "with open(\"contacts.txt\",\"w\") as file:\n",
    "    for contact in contacts:\n",
    "        file.write(contact + \"\\n\")\n",
    "\n",
    "print(\"Contacts saved to 'contacts.txt'.\")"
   ]
  },
  {
   "cell_type": "code",
   "execution_count": null,
   "id": "a5e318cc-961c-4533-bf5d-18c83968e632",
   "metadata": {},
   "outputs": [],
   "source": []
  }
 ],
 "metadata": {
  "kernelspec": {
   "display_name": "Python 3 (ipykernel)",
   "language": "python",
   "name": "python3"
  },
  "language_info": {
   "codemirror_mode": {
    "name": "ipython",
    "version": 3
   },
   "file_extension": ".py",
   "mimetype": "text/x-python",
   "name": "python",
   "nbconvert_exporter": "python",
   "pygments_lexer": "ipython3",
   "version": "3.12.4"
  }
 },
 "nbformat": 4,
 "nbformat_minor": 5
}

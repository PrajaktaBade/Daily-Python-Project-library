{
 "cells": [
  {
   "cell_type": "code",
   "execution_count": null,
   "id": "aef0bec2-c5cd-49b2-a638-827f5f360ae2",
   "metadata": {},
   "outputs": [],
   "source": [
    "# To create a simple program that organizes shopping List"
   ]
  },
  {
   "cell_type": "code",
   "execution_count": 1,
   "id": "0ab73184-f052-40a0-b860-37215d948742",
   "metadata": {},
   "outputs": [
    {
     "name": "stdout",
     "output_type": "stream",
     "text": [
      "Organized Shopping List:\n",
      "- apples\n",
      "- bananas\n",
      "- bread\n",
      "- milk\n",
      "- oranges\n"
     ]
    }
   ],
   "source": [
    "#Step 1: Define a shopping list with some duplicate items\n",
    "shopping_list = [\"apples\",\"bananas\",\"oranges\",\"milk\",\"bananas\",\"bread\",\"apples\"]\n",
    "\n",
    "#Step 2: Remove duplicates by converting to a set and back to a list\n",
    "unique_items = list(set(shopping_list))\n",
    "\n",
    "# Step 3: Sort the items alphabetically\n",
    "unique_items.sort()\n",
    "\n",
    "# Step 4: Print the cleaned-up shopping list\n",
    "print(\"Organized Shopping List:\")\n",
    "for item in unique_items:\n",
    "    print(f\"- {item}\")"
   ]
  },
  {
   "cell_type": "code",
   "execution_count": null,
   "id": "fb5dc086-19a0-4697-b78b-3070f45951c4",
   "metadata": {},
   "outputs": [],
   "source": []
  }
 ],
 "metadata": {
  "kernelspec": {
   "display_name": "Python 3 (ipykernel)",
   "language": "python",
   "name": "python3"
  },
  "language_info": {
   "codemirror_mode": {
    "name": "ipython",
    "version": 3
   },
   "file_extension": ".py",
   "mimetype": "text/x-python",
   "name": "python",
   "nbconvert_exporter": "python",
   "pygments_lexer": "ipython3",
   "version": "3.12.4"
  }
 },
 "nbformat": 4,
 "nbformat_minor": 5
}

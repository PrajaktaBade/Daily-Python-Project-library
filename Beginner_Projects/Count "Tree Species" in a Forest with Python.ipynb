{
 "cells": [
  {
   "cell_type": "code",
   "execution_count": null,
   "id": "744003fb-8ee2-477c-a8bd-b09c1be3858b",
   "metadata": {},
   "outputs": [],
   "source": [
    "# Write a program that takes a list of tree species found in a forest and counts how many times each species appears."
   ]
  },
  {
   "cell_type": "code",
   "execution_count": 5,
   "id": "57d6bd92-ac13-4e2f-a636-dc85d2bd35e1",
   "metadata": {},
   "outputs": [
    {
     "name": "stdout",
     "output_type": "stream",
     "text": [
      "oak:3\n",
      "pine:2\n",
      "maple:1\n",
      "birch:1\n"
     ]
    }
   ],
   "source": [
    "trees = [\"oak\",\"pine\",\"maple\",\"oak\",\"birch\",\"pine\",\"oak\"]\n",
    "\n",
    "# Step 2 : Count occurrences using a dictionary\n",
    "tree_counts = {}\n",
    "for tree in trees:\n",
    "    tree_counts[tree] = tree_counts.get(tree,0) + 1\n",
    "\n",
    "# Step 3: dislay the results\n",
    "for tree, count in tree_counts.items():\n",
    "    print(f\"{tree}:{count}\")"
   ]
  },
  {
   "cell_type": "code",
   "execution_count": null,
   "id": "80c1a257-45f5-4d09-aa19-da002f2c12cd",
   "metadata": {},
   "outputs": [],
   "source": []
  }
 ],
 "metadata": {
  "kernelspec": {
   "display_name": "Python 3 (ipykernel)",
   "language": "python",
   "name": "python3"
  },
  "language_info": {
   "codemirror_mode": {
    "name": "ipython",
    "version": 3
   },
   "file_extension": ".py",
   "mimetype": "text/x-python",
   "name": "python",
   "nbconvert_exporter": "python",
   "pygments_lexer": "ipython3",
   "version": "3.12.4"
  }
 },
 "nbformat": 4,
 "nbformat_minor": 5
}

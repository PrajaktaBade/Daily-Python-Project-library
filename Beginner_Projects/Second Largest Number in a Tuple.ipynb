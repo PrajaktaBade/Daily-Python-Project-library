{
 "cells": [
  {
   "cell_type": "code",
   "execution_count": null,
   "id": "7e679c9c-1e4e-4707-bb39-261f052531c7",
   "metadata": {},
   "outputs": [],
   "source": [
    "# To write a program that takes a tuple of numbers, finds the second largest number, and prints out that number.\n",
    "\n"
   ]
  },
  {
   "cell_type": "code",
   "execution_count": 1,
   "id": "786c2d53-1761-4e8d-b3dc-0ab79d276912",
   "metadata": {},
   "outputs": [
    {
     "name": "stdout",
     "output_type": "stream",
     "text": [
      "15\n"
     ]
    }
   ],
   "source": [
    "# Step 1: Define a list of numbers\n",
    "numbers = (10,5,8,20,15)\n",
    "\n",
    "# Step 2: find the largest number\n",
    "largest = max(numbers)\n",
    "\n",
    "# Step 3: Create a new list without the largest number\n",
    "filtered_numbers = [num for num in numbers if num != largest]\n",
    "\n",
    "# Step 4: Find the second largest number\n",
    "second_largest = max(filtered_numbers)\n",
    "\n",
    "# Step 5: Display the result\n",
    "print(second_largest)"
   ]
  },
  {
   "cell_type": "code",
   "execution_count": 3,
   "id": "4499cbbc-6c16-4ad2-b4cd-d152002d2e70",
   "metadata": {},
   "outputs": [
    {
     "name": "stdout",
     "output_type": "stream",
     "text": [
      "15\n"
     ]
    }
   ],
   "source": [
    "# Alternative\n",
    "numbers = (10, 5, 8, 20, 15)\n",
    "second_largest = sorted(set(numbers), reverse=True)[1]\n",
    "print(second_largest)"
   ]
  },
  {
   "cell_type": "code",
   "execution_count": null,
   "id": "ea20b0b2-3bc3-4caa-be3c-a98cb2e98a2c",
   "metadata": {},
   "outputs": [],
   "source": []
  }
 ],
 "metadata": {
  "kernelspec": {
   "display_name": "Python 3 (ipykernel)",
   "language": "python",
   "name": "python3"
  },
  "language_info": {
   "codemirror_mode": {
    "name": "ipython",
    "version": 3
   },
   "file_extension": ".py",
   "mimetype": "text/x-python",
   "name": "python",
   "nbconvert_exporter": "python",
   "pygments_lexer": "ipython3",
   "version": "3.12.4"
  }
 },
 "nbformat": 4,
 "nbformat_minor": 5
}

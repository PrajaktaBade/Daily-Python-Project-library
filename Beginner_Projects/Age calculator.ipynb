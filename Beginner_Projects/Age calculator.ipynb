{
 "cells": [
  {
   "cell_type": "code",
   "execution_count": null,
   "id": "ab9d56e9-be7a-48e5-837d-97bae3feefbd",
   "metadata": {},
   "outputs": [],
   "source": [
    "#Write down a program asks the user to enter their birth year and the current year. It then calculates and displays the user's age."
   ]
  },
  {
   "cell_type": "code",
   "execution_count": 13,
   "id": "5ee5679b-13e0-4f21-87ae-bb16f93d9a99",
   "metadata": {},
   "outputs": [
    {
     "name": "stdin",
     "output_type": "stream",
     "text": [
      "Enter your birth year:  1927\n",
      "Enter current year:  2024\n"
     ]
    },
    {
     "name": "stdout",
     "output_type": "stream",
     "text": [
      "You are 97 years old.\n"
     ]
    }
   ],
   "source": [
    "# Step 1 : Ask the iuser to enter their birth year\n",
    "birth_year = int(input(\"Enter your birth year: \"))\n",
    "\n",
    "# Step 2 : Ask the user to enter the current year\n",
    "current_year = int(input(\"Enter current year: \"))\n",
    "\n",
    "# Step 3 : Calculate the user's age\n",
    "User_age = current_year - birth_year\n",
    "\n",
    "# Step 4 : Display the user's age\n",
    "print(f\"You are {User_age} years old.\")"
   ]
  }
 ],
 "metadata": {
  "kernelspec": {
   "display_name": "Python 3 (ipykernel)",
   "language": "python",
   "name": "python3"
  },
  "language_info": {
   "codemirror_mode": {
    "name": "ipython",
    "version": 3
   },
   "file_extension": ".py",
   "mimetype": "text/x-python",
   "name": "python",
   "nbconvert_exporter": "python",
   "pygments_lexer": "ipython3",
   "version": "3.12.4"
  }
 },
 "nbformat": 4,
 "nbformat_minor": 5
}

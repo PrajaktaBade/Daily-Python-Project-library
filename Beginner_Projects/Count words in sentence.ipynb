{
 "cells": [
  {
   "cell_type": "code",
   "execution_count": null,
   "id": "76a97961-8fd9-4370-8be3-7a433cbaadc8",
   "metadata": {},
   "outputs": [],
   "source": [
    "# Create a program that takes a sentence as input and counts the number of words in that sentence. \n",
    "# The program will also identify the longest word in the sentence."
   ]
  },
  {
   "cell_type": "code",
   "execution_count": 7,
   "id": "0c23728a-cff0-4690-96cc-6cf1a2184b86",
   "metadata": {},
   "outputs": [
    {
     "name": "stdin",
     "output_type": "stream",
     "text": [
      "Enter a sentence:  Hii I am Prajakta.\n"
     ]
    },
    {
     "name": "stdout",
     "output_type": "stream",
     "text": [
      "The number of words in the senetence is: 4\n",
      "The longest word in the senetnce is: 'Prajakta.'\n"
     ]
    }
   ],
   "source": [
    "# Step 1: Get user input\n",
    "sentence = input(\"Enter a sentence: \")\n",
    "\n",
    "# Step 2: Split the sentence into words\n",
    "words = sentence.split()\n",
    "\n",
    "# Step 3: Count the number of words\n",
    "word_count = len(words)\n",
    "\n",
    "# Step 4: Find the longest word\n",
    "longest_word = max(words,key=len)\n",
    "\n",
    "# Step 5: Display the results\n",
    "print(f\"The number of words in the senetence is: {word_count}\")\n",
    "print(f\"The longest word in the senetnce is: '{longest_word}'\")"
   ]
  },
  {
   "cell_type": "code",
   "execution_count": null,
   "id": "fc9ade94-152e-47d9-9fc9-7ab4bae83e08",
   "metadata": {},
   "outputs": [],
   "source": [
    "# Step 1: Get user input\n",
    "sentence = input(\"Enter a sentence: \")\n",
    "\n",
    "# Step 2: Split the sentence into words\n",
    "words = sentence.split()\n",
    "\n",
    "# Step 3: Count the number of words\n",
    "word_count = len(words)\n",
    "\n",
    "# Step 4: Find the longest word\n",
    "longest_word = max(words, key=len)\n",
    "\n",
    "# Step 5: Display the results\n",
    "print(f\"The number of words in the sentence is: {word_count}\")\n",
    "print(f\"The longest word in the sentence is: '{longest_word}'\")"
   ]
  }
 ],
 "metadata": {
  "kernelspec": {
   "display_name": "Python 3 (ipykernel)",
   "language": "python",
   "name": "python3"
  },
  "language_info": {
   "codemirror_mode": {
    "name": "ipython",
    "version": 3
   },
   "file_extension": ".py",
   "mimetype": "text/x-python",
   "name": "python",
   "nbconvert_exporter": "python",
   "pygments_lexer": "ipython3",
   "version": "3.12.4"
  }
 },
 "nbformat": 4,
 "nbformat_minor": 5
}
